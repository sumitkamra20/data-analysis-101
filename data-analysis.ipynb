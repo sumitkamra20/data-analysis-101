{
 "cells": [
  {
   "cell_type": "markdown",
   "id": "70f9a253",
   "metadata": {},
   "source": [
    "# Data Analysis using Numpy and Pandas"
   ]
  },
  {
   "cell_type": "markdown",
   "id": "c7fd185c",
   "metadata": {},
   "source": [
    "NumPy, short for \"Numerical Python,\" is a fundamental library for scientific computing in Python. It's a favorite among programmers because it makes complex tasks simple\n",
    "\n",
    "This is what we will do in this section:\n",
    "\n",
    "- Speeding up our code with vectorized operations\n",
    "- Selecting data from NumPy ndarrays\n",
    "- Analyzing data using NumPy methods"
   ]
  },
  {
   "cell_type": "markdown",
   "id": "c3f75381",
   "metadata": {},
   "source": [
    "## Loading data from csv and converting to a NumPy array - Some basic properties\n",
    "\n",
    "The data has been stored in data/nyc_taxi.csv\n",
    "\n",
    "To get you started, we've used Python's csv module to load the nyc_taxis.csv file and converted it to a list of lists containing float values. The results have been saved to converted_taxi_list.\n",
    "\n",
    "Add a single line of code using the numpy.array() constructor to convert the converted_taxi_list variable to a NumPy ndarray, and assign the result to the variable name taxi."
   ]
  },
  {
   "cell_type": "code",
   "execution_count": 4,
   "id": "339c759b",
   "metadata": {},
   "outputs": [
    {
     "name": "stdout",
     "output_type": "stream",
     "text": [
      "\u001b[01;34m.\u001b[0m\r\n",
      "├── \u001b[01;34mdata\u001b[0m\r\n",
      "│   ├── nyc_taxis.csv\r\n",
      "│   └── nyc_taxis.csv:Zone.Identifier\r\n",
      "├── data-analysis.ipynb\r\n",
      "├── notebook_101.ipynb\r\n",
      "└── README.md\r\n",
      "\r\n",
      "1 directory, 5 files\r\n"
     ]
    }
   ],
   "source": [
    "# Let's check the tree of the parent where the files have been stored \n",
    "!tree "
   ]
  },
  {
   "cell_type": "code",
   "execution_count": 6,
   "id": "424f73f3",
   "metadata": {},
   "outputs": [],
   "source": [
    "# Importing the required libraries \n",
    "import csv\n",
    "import numpy as np\n"
   ]
  },
  {
   "cell_type": "code",
   "execution_count": 17,
   "id": "0510bee8",
   "metadata": {},
   "outputs": [],
   "source": [
    "# Load the data in a list without headers\n",
    "with open(\"data/nyc_taxis.csv\", \"r\") as csv_file:\n",
    "    csv_reader = csv.reader(csv_file)\n",
    "    csv_list = list(csv_reader)\n",
    "    csv_list = csv_list[1:]         # This is a list without headers\n",
    "\n",
    "# Convert all values to float\n",
    "\n",
    "converted_taxi_list = []\n",
    "for row in csv_list:\n",
    "    converted_row = []\n",
    "    for element in row:\n",
    "        converted_row.append(float(element))\n",
    "    converted_taxi_list.append(converted_row)\n",
    "\n",
    "# Convert the list in an array called taxi\n",
    "taxi  = np.array(converted_taxi_list)"
   ]
  },
  {
   "cell_type": "code",
   "execution_count": 18,
   "id": "bde6b13e",
   "metadata": {},
   "outputs": [
    {
     "name": "stdout",
     "output_type": "stream",
     "text": [
      "[[2.016e+03 1.000e+00 1.000e+00 ... 1.165e+01 6.999e+01 1.000e+00]\n",
      " [2.016e+03 1.000e+00 1.000e+00 ... 8.000e+00 5.430e+01 1.000e+00]\n",
      " [2.016e+03 1.000e+00 1.000e+00 ... 0.000e+00 3.780e+01 2.000e+00]\n",
      " ...\n",
      " [2.016e+03 6.000e+00 3.000e+01 ... 5.000e+00 6.334e+01 1.000e+00]\n",
      " [2.016e+03 6.000e+00 3.000e+01 ... 8.950e+00 4.475e+01 1.000e+00]\n",
      " [2.016e+03 6.000e+00 3.000e+01 ... 0.000e+00 5.484e+01 2.000e+00]]\n"
     ]
    }
   ],
   "source": [
    "# Printing an array\n",
    "print(taxi)"
   ]
  },
  {
   "cell_type": "code",
   "execution_count": 19,
   "id": "4a2106e4",
   "metadata": {},
   "outputs": [
    {
     "name": "stdout",
     "output_type": "stream",
     "text": [
      "(2013, 15)\n"
     ]
    }
   ],
   "source": [
    "print(taxi.shape)"
   ]
  },
  {
   "cell_type": "code",
   "execution_count": 20,
   "id": "d9b89f2d",
   "metadata": {},
   "outputs": [
    {
     "data": {
      "text/plain": [
       "2"
      ]
     },
     "execution_count": 20,
     "metadata": {},
     "output_type": "execute_result"
    }
   ],
   "source": [
    "taxi.ndim"
   ]
  },
  {
   "cell_type": "code",
   "execution_count": 21,
   "id": "0a1a29c1",
   "metadata": {},
   "outputs": [],
   "source": [
    "## Slicing the array\n",
    "row_0 = taxi[0]                     # Select the first row.\n",
    "rows_391_to_500 = taxi[391:501]     # Select rows between 391 to 500 (inclusive)\n",
    "row_21_column_5 = taxi[21,5]        # Selecting one specific element "
   ]
  },
  {
   "cell_type": "code",
   "execution_count": 22,
   "id": "7d9ff694",
   "metadata": {},
   "outputs": [],
   "source": [
    "# slicing for columns \n",
    "\n",
    "# Select every row for the columns at indices 1, 4, and 7\n",
    "columns_1_4_7 = taxi[:, [1,4,7]]\n",
    "\n",
    "# Select the columns at indices 5 to 8 inclusive for the row at index 99\n",
    "row_99_columns_5_to_8 = taxi[99,5:9]\n",
    "\n",
    "# Select the rows at indices 100 to 200 inclusive for the column at index 14\n",
    "rows_100_to_200_column_14 = taxi[100:201, 14]"
   ]
  },
  {
   "cell_type": "markdown",
   "id": "9a746c7f",
   "metadata": {},
   "source": [
    "## Vector operations \n",
    "\n",
    "NumPy ndarrays not only make selecting data much easier, they also allow us to perform vectorized operations more efficiently. Vectorized operations apply to multiple data points at once, making them faster than traditional loops."
   ]
  },
  {
   "cell_type": "markdown",
   "id": "48ee1433",
   "metadata": {},
   "source": [
    "From the provided taxi ndarray:\n",
    "\n",
    "1. Slice the taxi array to extract all rows and the 10th column only. Assign the result to a new variable called fare_amount.\n",
    "\n",
    "1. Slice the taxi array to extract all rows and the 11th column only. Assign the result to a new variable called fees_amount.\n",
    "\n",
    "1. Add the fare_amount and fees_amount arrays element-wise. Assign the result to a new variable called fare_and_fees.\n",
    "\n",
    "1. Print the fare_and_fees variable."
   ]
  },
  {
   "cell_type": "code",
   "execution_count": 23,
   "id": "591ef890",
   "metadata": {},
   "outputs": [
    {
     "name": "stdout",
     "output_type": "stream",
     "text": [
      "[52.8 46.3 37.8 ... 52.8 35.8 49.3]\n"
     ]
    }
   ],
   "source": [
    "fare_amount = taxi [:,9]                        # Col 10\n",
    "fees_amount = taxi [:,10]                       # Col 11\n",
    "fare_and_fees = fare_amount + fees_amount       # Summing the two cols up\n",
    "\n",
    "print(fare_and_fees)    "
   ]
  },
  {
   "cell_type": "markdown",
   "id": "6f993c64",
   "metadata": {},
   "source": [
    "**Some more vector operations including [NumPy broadcasting!](https://numpy.org/doc/stable/user/basics.broadcasting.html)** \n",
    "\n",
    "From the provided taxi ndarray, do the following:\n",
    "\n",
    "1. Create the variables trip_distance_miles, trip_length_seconds, and trip_length_hours as shown above in the Learn section.\n",
    "\n",
    "1. Use the formula in the Learn section to calculate the average speed in miles per hour for each trip, and assign the result to a new variable called trip_mph.\n",
    "\n",
    "1. Print the first 10 values of the trip_mph array."
   ]
  },
  {
   "cell_type": "code",
   "execution_count": 26,
   "id": "ace76151",
   "metadata": {},
   "outputs": [
    {
     "name": "stdout",
     "output_type": "stream",
     "text": [
      "[37.11340206 38.58157895 31.27222982 25.88429752 26.3715415  38.53293413\n",
      " 32.81553398 35.95075239 51.00702576 33.20207254 40.73619632]\n"
     ]
    }
   ],
   "source": [
    "# 1. Create the variables trip_distance_miles, trip_length_seconds, and trip_length_hours\n",
    "trip_distance_miles = taxi[:, 7]\n",
    "trip_length_seconds = taxi[:, 8]\n",
    "trip_length_hours = trip_length_seconds / 3600\n",
    "\n",
    "# 2. \n",
    "trip_mph = trip_distance_miles / trip_length_hours\n",
    "# 3. \n",
    "print(trip_mph[:11])"
   ]
  },
  {
   "cell_type": "markdown",
   "id": "faab807f",
   "metadata": {},
   "source": [
    "## Calculating Statistics for 1D Ndarrays"
   ]
  },
  {
   "cell_type": "markdown",
   "id": "6194075e",
   "metadata": {},
   "source": [
    "On the previous screen, we created trip_mph, a 1D ndarray of the average speed in miles per hour of each trip in our taxi dataset. Based on the first ten values of trip_mph, those NYC taxi drivers are fast; most average over 30 mph!\n",
    "\n",
    "Now let's dive deeper into our data by determining the minimum, maximum, and mean values for our newly created trip_mph 1D ndarray."
   ]
  },
  {
   "cell_type": "code",
   "execution_count": 27,
   "id": "38712db8",
   "metadata": {},
   "outputs": [
    {
     "name": "stdout",
     "output_type": "stream",
     "text": [
      "The minimum speed is 0.0\n",
      "The max speed is 82800.0\n"
     ]
    }
   ],
   "source": [
    "# Calculating minimum / maximum speeds from 1 D array\n",
    "mph_min = trip_mph.min()\n",
    "mph_max = trip_mph.max()\n",
    "\n",
    "print(f\"The minimum speed is {mph_min}\")\n",
    "print(f\"The max speed is {mph_max}\")"
   ]
  },
  {
   "cell_type": "code",
   "execution_count": 29,
   "id": "fe91ee69",
   "metadata": {},
   "outputs": [
    {
     "name": "stdout",
     "output_type": "stream",
     "text": [
      "The avergae speed is 169.98\n"
     ]
    }
   ],
   "source": [
    "mph_avg = trip_mph.mean()\n",
    "print(f\"The avergae speed is {round(mph_avg,2)}\")"
   ]
  },
  {
   "cell_type": "code",
   "execution_count": 34,
   "id": "195eaa07",
   "metadata": {},
   "outputs": [
    {
     "data": {
      "text/plain": [
       "24.18"
      ]
     },
     "execution_count": 34,
     "metadata": {},
     "output_type": "execute_result"
    }
   ],
   "source": [
    "# Calculating median.. median is not available as a method. \n",
    "# There is a class function to do it\n",
    "mph_median = np.median(trip_mph)\n",
    "round(mph_median,2)"
   ]
  },
  {
   "cell_type": "markdown",
   "id": "10f7e8e0",
   "metadata": {},
   "source": [
    "## Calculating Statistics for 2D Ndarrays"
   ]
  },
  {
   "attachments": {},
   "cell_type": "markdown",
   "id": "5146bdd0",
   "metadata": {},
   "source": [
    "When working with a 2D ndarray, using the ndarray.max() method without any additional parameters returns a single value like we saw with a 1D ndarray, representing the overall maximum:\n",
    "\n",
    "- But what if we want to find the maximum value of each row? We can use the **axis parameter and set it to 1** to find the maximum value for each row:\n",
    "\n",
    "- Similarly, we set **axis to 0 to find the maximum value of each column**:\n"
   ]
  },
  {
   "cell_type": "markdown",
   "id": "544faf3a",
   "metadata": {},
   "source": [
    "**Exercise:** \n",
    "<br>\n",
    "**fare amount + fees amount + tolls amount + tip amount = total amount**"
   ]
  },
  {
   "cell_type": "code",
   "execution_count": 35,
   "id": "aad302ae",
   "metadata": {},
   "outputs": [],
   "source": [
    "# extract the first 5 rows only\n",
    "taxi_first_five = taxi[:5]\n",
    "# select columns: fare_amount, fees_amount, tolls_amount, and tip_amount\n",
    "fare_components = taxi_first_five[:, 9:13]"
   ]
  },
  {
   "cell_type": "markdown",
   "id": "e0801ac8",
   "metadata": {},
   "source": [
    "1. Use the ndarray.sum() method to calculate the sum of each row in fare_components. Assign the result to fare_sums.\n",
    "1. Extract the 14th column in taxi_first_five. Assign it to fare_totals.\n",
    "1. Print fare_totals and fare_sums or use the variable inspector to compare the results and make sure they match."
   ]
  },
  {
   "cell_type": "code",
   "execution_count": 36,
   "id": "f57f3295",
   "metadata": {},
   "outputs": [
    {
     "name": "stdout",
     "output_type": "stream",
     "text": [
      "[69.99 54.3  37.8  32.76 18.8 ]\n",
      "[69.99 54.3  37.8  32.76 18.8 ]\n"
     ]
    }
   ],
   "source": [
    "fare_sums = fare_components.sum(axis = 1)\n",
    "fare_totals = taxi_first_five[:,13]\n",
    "\n",
    "print(fare_totals)\n",
    "print(fare_sums)"
   ]
  },
  {
   "cell_type": "code",
   "execution_count": null,
   "id": "3da56881",
   "metadata": {},
   "outputs": [],
   "source": []
  }
 ],
 "metadata": {
  "kernelspec": {
   "display_name": "Python 3 (ipykernel)",
   "language": "python",
   "name": "python3"
  },
  "language_info": {
   "codemirror_mode": {
    "name": "ipython",
    "version": 3
   },
   "file_extension": ".py",
   "mimetype": "text/x-python",
   "name": "python",
   "nbconvert_exporter": "python",
   "pygments_lexer": "ipython3",
   "version": "3.10.6"
  },
  "toc": {
   "base_numbering": 1,
   "nav_menu": {},
   "number_sections": true,
   "sideBar": true,
   "skip_h1_title": false,
   "title_cell": "Table of Contents",
   "title_sidebar": "Contents",
   "toc_cell": false,
   "toc_position": {},
   "toc_section_display": true,
   "toc_window_display": false
  }
 },
 "nbformat": 4,
 "nbformat_minor": 5
}
