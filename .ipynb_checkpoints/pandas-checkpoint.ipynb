{
 "cells": [
  {
   "cell_type": "markdown",
   "id": "479bf818",
   "metadata": {},
   "source": [
    "# Pandas practice"
   ]
  },
  {
   "cell_type": "code",
   "execution_count": 1,
   "id": "8bc42b84",
   "metadata": {},
   "outputs": [],
   "source": [
    "import pandas as pd\n",
    "import numpy as np\n"
   ]
  },
  {
   "cell_type": "code",
   "execution_count": 2,
   "id": "67577d97",
   "metadata": {},
   "outputs": [],
   "source": [
    "# Reading a csv\n",
    "f500 = pd.read_csv('data/f500.csv', index_col = 0)"
   ]
  },
  {
   "cell_type": "markdown",
   "id": "890320f5",
   "metadata": {},
   "source": [
    "## Some common functions"
   ]
  },
  {
   "cell_type": "code",
   "execution_count": 3,
   "id": "ef8ec60e",
   "metadata": {},
   "outputs": [
    {
     "data": {
      "text/plain": [
       "pandas.core.frame.DataFrame"
      ]
     },
     "execution_count": 3,
     "metadata": {},
     "output_type": "execute_result"
    }
   ],
   "source": [
    "type(f500)"
   ]
  },
  {
   "cell_type": "code",
   "execution_count": 4,
   "id": "279a1135",
   "metadata": {},
   "outputs": [
    {
     "data": {
      "text/plain": [
       "(500, 16)"
      ]
     },
     "execution_count": 4,
     "metadata": {},
     "output_type": "execute_result"
    }
   ],
   "source": [
    "f500.shape"
   ]
  },
  {
   "cell_type": "code",
   "execution_count": 6,
   "id": "2270370d",
   "metadata": {},
   "outputs": [
    {
     "data": {
      "text/plain": [
       "2"
      ]
     },
     "execution_count": 6,
     "metadata": {},
     "output_type": "execute_result"
    }
   ],
   "source": [
    "f500.ndim"
   ]
  },
  {
   "cell_type": "code",
   "execution_count": 8,
   "id": "f2b91868",
   "metadata": {},
   "outputs": [
    {
     "data": {
      "text/plain": [
       "rank                          int64\n",
       "revenues                      int64\n",
       "revenue_change              float64\n",
       "profits                     float64\n",
       "assets                        int64\n",
       "profit_change               float64\n",
       "ceo                          object\n",
       "industry                     object\n",
       "sector                       object\n",
       "previous_rank                 int64\n",
       "country                      object\n",
       "hq_location                  object\n",
       "website                      object\n",
       "years_on_global_500_list      int64\n",
       "employees                     int64\n",
       "total_stockholder_equity      int64\n",
       "dtype: object"
      ]
     },
     "execution_count": 8,
     "metadata": {},
     "output_type": "execute_result"
    }
   ],
   "source": [
    "f500.dtypes"
   ]
  },
  {
   "cell_type": "code",
   "execution_count": 9,
   "id": "45974249",
   "metadata": {},
   "outputs": [
    {
     "data": {
      "text/html": [
       "<div>\n",
       "<style scoped>\n",
       "    .dataframe tbody tr th:only-of-type {\n",
       "        vertical-align: middle;\n",
       "    }\n",
       "\n",
       "    .dataframe tbody tr th {\n",
       "        vertical-align: top;\n",
       "    }\n",
       "\n",
       "    .dataframe thead th {\n",
       "        text-align: right;\n",
       "    }\n",
       "</style>\n",
       "<table border=\"1\" class=\"dataframe\">\n",
       "  <thead>\n",
       "    <tr style=\"text-align: right;\">\n",
       "      <th></th>\n",
       "      <th>rank</th>\n",
       "      <th>revenues</th>\n",
       "      <th>revenue_change</th>\n",
       "      <th>profits</th>\n",
       "      <th>assets</th>\n",
       "      <th>profit_change</th>\n",
       "      <th>ceo</th>\n",
       "      <th>industry</th>\n",
       "      <th>sector</th>\n",
       "      <th>previous_rank</th>\n",
       "      <th>country</th>\n",
       "      <th>hq_location</th>\n",
       "      <th>website</th>\n",
       "      <th>years_on_global_500_list</th>\n",
       "      <th>employees</th>\n",
       "      <th>total_stockholder_equity</th>\n",
       "    </tr>\n",
       "    <tr>\n",
       "      <th>company</th>\n",
       "      <th></th>\n",
       "      <th></th>\n",
       "      <th></th>\n",
       "      <th></th>\n",
       "      <th></th>\n",
       "      <th></th>\n",
       "      <th></th>\n",
       "      <th></th>\n",
       "      <th></th>\n",
       "      <th></th>\n",
       "      <th></th>\n",
       "      <th></th>\n",
       "      <th></th>\n",
       "      <th></th>\n",
       "      <th></th>\n",
       "      <th></th>\n",
       "    </tr>\n",
       "  </thead>\n",
       "  <tbody>\n",
       "    <tr>\n",
       "      <th>Walmart</th>\n",
       "      <td>1</td>\n",
       "      <td>485873</td>\n",
       "      <td>0.8</td>\n",
       "      <td>13643.0</td>\n",
       "      <td>198825</td>\n",
       "      <td>-7.2</td>\n",
       "      <td>C. Douglas McMillon</td>\n",
       "      <td>General Merchandisers</td>\n",
       "      <td>Retailing</td>\n",
       "      <td>1</td>\n",
       "      <td>USA</td>\n",
       "      <td>Bentonville, AR</td>\n",
       "      <td>http://www.walmart.com</td>\n",
       "      <td>23</td>\n",
       "      <td>2300000</td>\n",
       "      <td>77798</td>\n",
       "    </tr>\n",
       "    <tr>\n",
       "      <th>State Grid</th>\n",
       "      <td>2</td>\n",
       "      <td>315199</td>\n",
       "      <td>-4.4</td>\n",
       "      <td>9571.3</td>\n",
       "      <td>489838</td>\n",
       "      <td>-6.2</td>\n",
       "      <td>Kou Wei</td>\n",
       "      <td>Utilities</td>\n",
       "      <td>Energy</td>\n",
       "      <td>2</td>\n",
       "      <td>China</td>\n",
       "      <td>Beijing, China</td>\n",
       "      <td>http://www.sgcc.com.cn</td>\n",
       "      <td>17</td>\n",
       "      <td>926067</td>\n",
       "      <td>209456</td>\n",
       "    </tr>\n",
       "    <tr>\n",
       "      <th>Sinopec Group</th>\n",
       "      <td>3</td>\n",
       "      <td>267518</td>\n",
       "      <td>-9.1</td>\n",
       "      <td>1257.9</td>\n",
       "      <td>310726</td>\n",
       "      <td>-65.0</td>\n",
       "      <td>Wang Yupu</td>\n",
       "      <td>Petroleum Refining</td>\n",
       "      <td>Energy</td>\n",
       "      <td>4</td>\n",
       "      <td>China</td>\n",
       "      <td>Beijing, China</td>\n",
       "      <td>http://www.sinopec.com</td>\n",
       "      <td>19</td>\n",
       "      <td>713288</td>\n",
       "      <td>106523</td>\n",
       "    </tr>\n",
       "  </tbody>\n",
       "</table>\n",
       "</div>"
      ],
      "text/plain": [
       "               rank  revenues  revenue_change  profits  assets  profit_change  \\\n",
       "company                                                                         \n",
       "Walmart           1    485873             0.8  13643.0  198825           -7.2   \n",
       "State Grid        2    315199            -4.4   9571.3  489838           -6.2   \n",
       "Sinopec Group     3    267518            -9.1   1257.9  310726          -65.0   \n",
       "\n",
       "                               ceo               industry     sector  \\\n",
       "company                                                                \n",
       "Walmart        C. Douglas McMillon  General Merchandisers  Retailing   \n",
       "State Grid                 Kou Wei              Utilities     Energy   \n",
       "Sinopec Group            Wang Yupu     Petroleum Refining     Energy   \n",
       "\n",
       "               previous_rank country      hq_location                 website  \\\n",
       "company                                                                         \n",
       "Walmart                    1     USA  Bentonville, AR  http://www.walmart.com   \n",
       "State Grid                 2   China   Beijing, China  http://www.sgcc.com.cn   \n",
       "Sinopec Group              4   China   Beijing, China  http://www.sinopec.com   \n",
       "\n",
       "               years_on_global_500_list  employees  total_stockholder_equity  \n",
       "company                                                                       \n",
       "Walmart                              23    2300000                     77798  \n",
       "State Grid                           17     926067                    209456  \n",
       "Sinopec Group                        19     713288                    106523  "
      ]
     },
     "execution_count": 9,
     "metadata": {},
     "output_type": "execute_result"
    }
   ],
   "source": [
    "f500.head(3)"
   ]
  },
  {
   "cell_type": "code",
   "execution_count": 10,
   "id": "4e0509a4",
   "metadata": {},
   "outputs": [
    {
     "data": {
      "text/html": [
       "<div>\n",
       "<style scoped>\n",
       "    .dataframe tbody tr th:only-of-type {\n",
       "        vertical-align: middle;\n",
       "    }\n",
       "\n",
       "    .dataframe tbody tr th {\n",
       "        vertical-align: top;\n",
       "    }\n",
       "\n",
       "    .dataframe thead th {\n",
       "        text-align: right;\n",
       "    }\n",
       "</style>\n",
       "<table border=\"1\" class=\"dataframe\">\n",
       "  <thead>\n",
       "    <tr style=\"text-align: right;\">\n",
       "      <th></th>\n",
       "      <th>rank</th>\n",
       "      <th>revenues</th>\n",
       "      <th>revenue_change</th>\n",
       "      <th>profits</th>\n",
       "      <th>assets</th>\n",
       "      <th>profit_change</th>\n",
       "      <th>ceo</th>\n",
       "      <th>industry</th>\n",
       "      <th>sector</th>\n",
       "      <th>previous_rank</th>\n",
       "      <th>country</th>\n",
       "      <th>hq_location</th>\n",
       "      <th>website</th>\n",
       "      <th>years_on_global_500_list</th>\n",
       "      <th>employees</th>\n",
       "      <th>total_stockholder_equity</th>\n",
       "    </tr>\n",
       "    <tr>\n",
       "      <th>company</th>\n",
       "      <th></th>\n",
       "      <th></th>\n",
       "      <th></th>\n",
       "      <th></th>\n",
       "      <th></th>\n",
       "      <th></th>\n",
       "      <th></th>\n",
       "      <th></th>\n",
       "      <th></th>\n",
       "      <th></th>\n",
       "      <th></th>\n",
       "      <th></th>\n",
       "      <th></th>\n",
       "      <th></th>\n",
       "      <th></th>\n",
       "      <th></th>\n",
       "    </tr>\n",
       "  </thead>\n",
       "  <tbody>\n",
       "    <tr>\n",
       "      <th>Teva Pharmaceutical Industries</th>\n",
       "      <td>496</td>\n",
       "      <td>21903</td>\n",
       "      <td>11.5</td>\n",
       "      <td>329.0</td>\n",
       "      <td>92890</td>\n",
       "      <td>-79.3</td>\n",
       "      <td>Yitzhak Peterburg</td>\n",
       "      <td>Pharmaceuticals</td>\n",
       "      <td>Health Care</td>\n",
       "      <td>0</td>\n",
       "      <td>Israel</td>\n",
       "      <td>Petach Tikva, Israel</td>\n",
       "      <td>http://www.tevapharm.com</td>\n",
       "      <td>1</td>\n",
       "      <td>56960</td>\n",
       "      <td>33337</td>\n",
       "    </tr>\n",
       "    <tr>\n",
       "      <th>New China Life Insurance</th>\n",
       "      <td>497</td>\n",
       "      <td>21796</td>\n",
       "      <td>-13.3</td>\n",
       "      <td>743.9</td>\n",
       "      <td>100609</td>\n",
       "      <td>-45.6</td>\n",
       "      <td>Wan Feng</td>\n",
       "      <td>Insurance: Life, Health (stock)</td>\n",
       "      <td>Financials</td>\n",
       "      <td>427</td>\n",
       "      <td>China</td>\n",
       "      <td>Beijing, China</td>\n",
       "      <td>http://www.newchinalife.com</td>\n",
       "      <td>2</td>\n",
       "      <td>54378</td>\n",
       "      <td>8507</td>\n",
       "    </tr>\n",
       "    <tr>\n",
       "      <th>Wm. Morrison Supermarkets</th>\n",
       "      <td>498</td>\n",
       "      <td>21741</td>\n",
       "      <td>-11.3</td>\n",
       "      <td>406.4</td>\n",
       "      <td>11630</td>\n",
       "      <td>20.4</td>\n",
       "      <td>David T. Potts</td>\n",
       "      <td>Food and Drug Stores</td>\n",
       "      <td>Food &amp; Drug Stores</td>\n",
       "      <td>437</td>\n",
       "      <td>Britain</td>\n",
       "      <td>Bradford, Britain</td>\n",
       "      <td>http://www.morrisons.com</td>\n",
       "      <td>13</td>\n",
       "      <td>77210</td>\n",
       "      <td>5111</td>\n",
       "    </tr>\n",
       "    <tr>\n",
       "      <th>TUI</th>\n",
       "      <td>499</td>\n",
       "      <td>21655</td>\n",
       "      <td>-5.5</td>\n",
       "      <td>1151.7</td>\n",
       "      <td>16247</td>\n",
       "      <td>195.5</td>\n",
       "      <td>Friedrich Joussen</td>\n",
       "      <td>Travel Services</td>\n",
       "      <td>Business Services</td>\n",
       "      <td>467</td>\n",
       "      <td>Germany</td>\n",
       "      <td>Hanover, Germany</td>\n",
       "      <td>http://www.tuigroup.com</td>\n",
       "      <td>23</td>\n",
       "      <td>66779</td>\n",
       "      <td>3006</td>\n",
       "    </tr>\n",
       "    <tr>\n",
       "      <th>AutoNation</th>\n",
       "      <td>500</td>\n",
       "      <td>21609</td>\n",
       "      <td>3.6</td>\n",
       "      <td>430.5</td>\n",
       "      <td>10060</td>\n",
       "      <td>-2.7</td>\n",
       "      <td>Michael J. Jackson</td>\n",
       "      <td>Specialty Retailers</td>\n",
       "      <td>Retailing</td>\n",
       "      <td>0</td>\n",
       "      <td>USA</td>\n",
       "      <td>Fort Lauderdale, FL</td>\n",
       "      <td>http://www.autonation.com</td>\n",
       "      <td>12</td>\n",
       "      <td>26000</td>\n",
       "      <td>2310</td>\n",
       "    </tr>\n",
       "  </tbody>\n",
       "</table>\n",
       "</div>"
      ],
      "text/plain": [
       "                                rank  revenues  revenue_change  profits  \\\n",
       "company                                                                   \n",
       "Teva Pharmaceutical Industries   496     21903            11.5    329.0   \n",
       "New China Life Insurance         497     21796           -13.3    743.9   \n",
       "Wm. Morrison Supermarkets        498     21741           -11.3    406.4   \n",
       "TUI                              499     21655            -5.5   1151.7   \n",
       "AutoNation                       500     21609             3.6    430.5   \n",
       "\n",
       "                                assets  profit_change                 ceo  \\\n",
       "company                                                                     \n",
       "Teva Pharmaceutical Industries   92890          -79.3   Yitzhak Peterburg   \n",
       "New China Life Insurance        100609          -45.6            Wan Feng   \n",
       "Wm. Morrison Supermarkets        11630           20.4      David T. Potts   \n",
       "TUI                              16247          195.5   Friedrich Joussen   \n",
       "AutoNation                       10060           -2.7  Michael J. Jackson   \n",
       "\n",
       "                                                       industry  \\\n",
       "company                                                           \n",
       "Teva Pharmaceutical Industries                  Pharmaceuticals   \n",
       "New China Life Insurance        Insurance: Life, Health (stock)   \n",
       "Wm. Morrison Supermarkets                  Food and Drug Stores   \n",
       "TUI                                             Travel Services   \n",
       "AutoNation                                  Specialty Retailers   \n",
       "\n",
       "                                            sector  previous_rank  country  \\\n",
       "company                                                                      \n",
       "Teva Pharmaceutical Industries         Health Care              0   Israel   \n",
       "New China Life Insurance                Financials            427    China   \n",
       "Wm. Morrison Supermarkets       Food & Drug Stores            437  Britain   \n",
       "TUI                              Business Services            467  Germany   \n",
       "AutoNation                               Retailing              0      USA   \n",
       "\n",
       "                                         hq_location  \\\n",
       "company                                                \n",
       "Teva Pharmaceutical Industries  Petach Tikva, Israel   \n",
       "New China Life Insurance              Beijing, China   \n",
       "Wm. Morrison Supermarkets          Bradford, Britain   \n",
       "TUI                                 Hanover, Germany   \n",
       "AutoNation                       Fort Lauderdale, FL   \n",
       "\n",
       "                                                    website  \\\n",
       "company                                                       \n",
       "Teva Pharmaceutical Industries     http://www.tevapharm.com   \n",
       "New China Life Insurance        http://www.newchinalife.com   \n",
       "Wm. Morrison Supermarkets          http://www.morrisons.com   \n",
       "TUI                                 http://www.tuigroup.com   \n",
       "AutoNation                        http://www.autonation.com   \n",
       "\n",
       "                                years_on_global_500_list  employees  \\\n",
       "company                                                               \n",
       "Teva Pharmaceutical Industries                         1      56960   \n",
       "New China Life Insurance                               2      54378   \n",
       "Wm. Morrison Supermarkets                             13      77210   \n",
       "TUI                                                   23      66779   \n",
       "AutoNation                                            12      26000   \n",
       "\n",
       "                                total_stockholder_equity  \n",
       "company                                                   \n",
       "Teva Pharmaceutical Industries                     33337  \n",
       "New China Life Insurance                            8507  \n",
       "Wm. Morrison Supermarkets                           5111  \n",
       "TUI                                                 3006  \n",
       "AutoNation                                          2310  "
      ]
     },
     "execution_count": 10,
     "metadata": {},
     "output_type": "execute_result"
    }
   ],
   "source": [
    "f500.tail()"
   ]
  },
  {
   "cell_type": "code",
   "execution_count": 11,
   "id": "c651e8de",
   "metadata": {},
   "outputs": [
    {
     "name": "stdout",
     "output_type": "stream",
     "text": [
      "<class 'pandas.core.frame.DataFrame'>\n",
      "Index: 500 entries, Walmart to AutoNation\n",
      "Data columns (total 16 columns):\n",
      " #   Column                    Non-Null Count  Dtype  \n",
      "---  ------                    --------------  -----  \n",
      " 0   rank                      500 non-null    int64  \n",
      " 1   revenues                  500 non-null    int64  \n",
      " 2   revenue_change            498 non-null    float64\n",
      " 3   profits                   499 non-null    float64\n",
      " 4   assets                    500 non-null    int64  \n",
      " 5   profit_change             436 non-null    float64\n",
      " 6   ceo                       500 non-null    object \n",
      " 7   industry                  500 non-null    object \n",
      " 8   sector                    500 non-null    object \n",
      " 9   previous_rank             500 non-null    int64  \n",
      " 10  country                   500 non-null    object \n",
      " 11  hq_location               500 non-null    object \n",
      " 12  website                   500 non-null    object \n",
      " 13  years_on_global_500_list  500 non-null    int64  \n",
      " 14  employees                 500 non-null    int64  \n",
      " 15  total_stockholder_equity  500 non-null    int64  \n",
      "dtypes: float64(3), int64(7), object(6)\n",
      "memory usage: 66.4+ KB\n"
     ]
    }
   ],
   "source": [
    "f500.info()"
   ]
  },
  {
   "attachments": {
    "image.png": {
     "image/png": "[encoded data removed]"
    }
   },
   "cell_type": "markdown",
   "id": "32edb6cc",
   "metadata": {},
   "source": [
    "![image.png](attachment:image.png)"
   ]
  },
  {
   "cell_type": "markdown",
   "id": "b8a936e7",
   "metadata": {},
   "source": [
    "**df.loc[row_label, column_label]**"
   ]
  },
  {
   "cell_type": "code",
   "execution_count": 17,
   "id": "f80e79cc",
   "metadata": {},
   "outputs": [
    {
     "data": {
      "text/plain": [
       "(500,)"
      ]
     },
     "execution_count": 17,
     "metadata": {},
     "output_type": "execute_result"
    }
   ],
   "source": [
    "# Selecting certain rows / cols\n",
    "\n",
    "f500.loc[:,'ceo'].shape"
   ]
  },
  {
   "cell_type": "code",
   "execution_count": 25,
   "id": "69b23795",
   "metadata": {},
   "outputs": [
    {
     "data": {
      "text/html": [
       "<div>\n",
       "<style scoped>\n",
       "    .dataframe tbody tr th:only-of-type {\n",
       "        vertical-align: middle;\n",
       "    }\n",
       "\n",
       "    .dataframe tbody tr th {\n",
       "        vertical-align: top;\n",
       "    }\n",
       "\n",
       "    .dataframe thead th {\n",
       "        text-align: right;\n",
       "    }\n",
       "</style>\n",
       "<table border=\"1\" class=\"dataframe\">\n",
       "  <thead>\n",
       "    <tr style=\"text-align: right;\">\n",
       "      <th></th>\n",
       "      <th>ceo</th>\n",
       "      <th>industry</th>\n",
       "      <th>sector</th>\n",
       "    </tr>\n",
       "    <tr>\n",
       "      <th>company</th>\n",
       "      <th></th>\n",
       "      <th></th>\n",
       "      <th></th>\n",
       "    </tr>\n",
       "  </thead>\n",
       "  <tbody>\n",
       "    <tr>\n",
       "      <th>Walmart</th>\n",
       "      <td>C. Douglas McMillon</td>\n",
       "      <td>General Merchandisers</td>\n",
       "      <td>Retailing</td>\n",
       "    </tr>\n",
       "    <tr>\n",
       "      <th>State Grid</th>\n",
       "      <td>Kou Wei</td>\n",
       "      <td>Utilities</td>\n",
       "      <td>Energy</td>\n",
       "    </tr>\n",
       "    <tr>\n",
       "      <th>Sinopec Group</th>\n",
       "      <td>Wang Yupu</td>\n",
       "      <td>Petroleum Refining</td>\n",
       "      <td>Energy</td>\n",
       "    </tr>\n",
       "    <tr>\n",
       "      <th>China National Petroleum</th>\n",
       "      <td>Zhang Jianhua</td>\n",
       "      <td>Petroleum Refining</td>\n",
       "      <td>Energy</td>\n",
       "    </tr>\n",
       "    <tr>\n",
       "      <th>Toyota Motor</th>\n",
       "      <td>Akio Toyoda</td>\n",
       "      <td>Motor Vehicles and Parts</td>\n",
       "      <td>Motor Vehicles &amp; Parts</td>\n",
       "    </tr>\n",
       "    <tr>\n",
       "      <th>...</th>\n",
       "      <td>...</td>\n",
       "      <td>...</td>\n",
       "      <td>...</td>\n",
       "    </tr>\n",
       "    <tr>\n",
       "      <th>Teva Pharmaceutical Industries</th>\n",
       "      <td>Yitzhak Peterburg</td>\n",
       "      <td>Pharmaceuticals</td>\n",
       "      <td>Health Care</td>\n",
       "    </tr>\n",
       "    <tr>\n",
       "      <th>New China Life Insurance</th>\n",
       "      <td>Wan Feng</td>\n",
       "      <td>Insurance: Life, Health (stock)</td>\n",
       "      <td>Financials</td>\n",
       "    </tr>\n",
       "    <tr>\n",
       "      <th>Wm. Morrison Supermarkets</th>\n",
       "      <td>David T. Potts</td>\n",
       "      <td>Food and Drug Stores</td>\n",
       "      <td>Food &amp; Drug Stores</td>\n",
       "    </tr>\n",
       "    <tr>\n",
       "      <th>TUI</th>\n",
       "      <td>Friedrich Joussen</td>\n",
       "      <td>Travel Services</td>\n",
       "      <td>Business Services</td>\n",
       "    </tr>\n",
       "    <tr>\n",
       "      <th>AutoNation</th>\n",
       "      <td>Michael J. Jackson</td>\n",
       "      <td>Specialty Retailers</td>\n",
       "      <td>Retailing</td>\n",
       "    </tr>\n",
       "  </tbody>\n",
       "</table>\n",
       "<p>500 rows × 3 columns</p>\n",
       "</div>"
      ],
      "text/plain": [
       "                                                ceo  \\\n",
       "company                                               \n",
       "Walmart                         C. Douglas McMillon   \n",
       "State Grid                                  Kou Wei   \n",
       "Sinopec Group                             Wang Yupu   \n",
       "China National Petroleum              Zhang Jianhua   \n",
       "Toyota Motor                            Akio Toyoda   \n",
       "...                                             ...   \n",
       "Teva Pharmaceutical Industries    Yitzhak Peterburg   \n",
       "New China Life Insurance                   Wan Feng   \n",
       "Wm. Morrison Supermarkets            David T. Potts   \n",
       "TUI                               Friedrich Joussen   \n",
       "AutoNation                       Michael J. Jackson   \n",
       "\n",
       "                                                       industry  \\\n",
       "company                                                           \n",
       "Walmart                                   General Merchandisers   \n",
       "State Grid                                            Utilities   \n",
       "Sinopec Group                                Petroleum Refining   \n",
       "China National Petroleum                     Petroleum Refining   \n",
       "Toyota Motor                           Motor Vehicles and Parts   \n",
       "...                                                         ...   \n",
       "Teva Pharmaceutical Industries                  Pharmaceuticals   \n",
       "New China Life Insurance        Insurance: Life, Health (stock)   \n",
       "Wm. Morrison Supermarkets                  Food and Drug Stores   \n",
       "TUI                                             Travel Services   \n",
       "AutoNation                                  Specialty Retailers   \n",
       "\n",
       "                                                sector  \n",
       "company                                                 \n",
       "Walmart                                      Retailing  \n",
       "State Grid                                      Energy  \n",
       "Sinopec Group                                   Energy  \n",
       "China National Petroleum                        Energy  \n",
       "Toyota Motor                    Motor Vehicles & Parts  \n",
       "...                                                ...  \n",
       "Teva Pharmaceutical Industries             Health Care  \n",
       "New China Life Insurance                    Financials  \n",
       "Wm. Morrison Supermarkets           Food & Drug Stores  \n",
       "TUI                                  Business Services  \n",
       "AutoNation                                   Retailing  \n",
       "\n",
       "[500 rows x 3 columns]"
      ]
     },
     "execution_count": 25,
     "metadata": {},
     "output_type": "execute_result"
    }
   ],
   "source": [
    "f500.loc[:,['ceo', 'industry', 'sector']]"
   ]
  },
  {
   "cell_type": "code",
   "execution_count": 24,
   "id": "7eb57f90",
   "metadata": {},
   "outputs": [
    {
     "name": "stdout",
     "output_type": "stream",
     "text": [
      "<class 'pandas.core.frame.DataFrame'>\n",
      "<class 'pandas.core.series.Series'>\n",
      "<class 'pandas.core.frame.DataFrame'>\n"
     ]
    }
   ],
   "source": [
    "print(type(f500))\n",
    "print(type(f500.loc[:,'ceo']))      # This returns a series\n",
    "print(type(f500.loc[:,['ceo']]))    # This returns a data frame "
   ]
  },
  {
   "cell_type": "code",
   "execution_count": 29,
   "id": "204fd573",
   "metadata": {},
   "outputs": [
    {
     "data": {
      "text/plain": [
       "company\n",
       "Walmart                           C. Douglas McMillon\n",
       "State Grid                                    Kou Wei\n",
       "Sinopec Group                               Wang Yupu\n",
       "China National Petroleum                Zhang Jianhua\n",
       "Toyota Motor                              Akio Toyoda\n",
       "                                         ...         \n",
       "Teva Pharmaceutical Industries      Yitzhak Peterburg\n",
       "New China Life Insurance                     Wan Feng\n",
       "Wm. Morrison Supermarkets              David T. Potts\n",
       "TUI                                 Friedrich Joussen\n",
       "AutoNation                         Michael J. Jackson\n",
       "Name: ceo, Length: 500, dtype: object"
      ]
     },
     "execution_count": 29,
     "metadata": {},
     "output_type": "execute_result"
    }
   ],
   "source": [
    "# Selecting a single column \n",
    "# This is a easy way of selecting single column\n",
    "f500['ceo']"
   ]
  },
  {
   "cell_type": "code",
   "execution_count": 47,
   "id": "7fcdfe73",
   "metadata": {},
   "outputs": [
    {
     "data": {
      "text/html": [
       "<div>\n",
       "<style scoped>\n",
       "    .dataframe tbody tr th:only-of-type {\n",
       "        vertical-align: middle;\n",
       "    }\n",
       "\n",
       "    .dataframe tbody tr th {\n",
       "        vertical-align: top;\n",
       "    }\n",
       "\n",
       "    .dataframe thead th {\n",
       "        text-align: right;\n",
       "    }\n",
       "</style>\n",
       "<table border=\"1\" class=\"dataframe\">\n",
       "  <thead>\n",
       "    <tr style=\"text-align: right;\">\n",
       "      <th></th>\n",
       "      <th>ceo</th>\n",
       "      <th>country</th>\n",
       "    </tr>\n",
       "    <tr>\n",
       "      <th>company</th>\n",
       "      <th></th>\n",
       "      <th></th>\n",
       "    </tr>\n",
       "  </thead>\n",
       "  <tbody>\n",
       "    <tr>\n",
       "      <th>Walmart</th>\n",
       "      <td>C. Douglas McMillon</td>\n",
       "      <td>USA</td>\n",
       "    </tr>\n",
       "    <tr>\n",
       "      <th>State Grid</th>\n",
       "      <td>Kou Wei</td>\n",
       "      <td>China</td>\n",
       "    </tr>\n",
       "    <tr>\n",
       "      <th>Sinopec Group</th>\n",
       "      <td>Wang Yupu</td>\n",
       "      <td>China</td>\n",
       "    </tr>\n",
       "    <tr>\n",
       "      <th>China National Petroleum</th>\n",
       "      <td>Zhang Jianhua</td>\n",
       "      <td>China</td>\n",
       "    </tr>\n",
       "    <tr>\n",
       "      <th>Toyota Motor</th>\n",
       "      <td>Akio Toyoda</td>\n",
       "      <td>Japan</td>\n",
       "    </tr>\n",
       "  </tbody>\n",
       "</table>\n",
       "</div>"
      ],
      "text/plain": [
       "                                          ceo country\n",
       "company                                              \n",
       "Walmart                   C. Douglas McMillon     USA\n",
       "State Grid                            Kou Wei   China\n",
       "Sinopec Group                       Wang Yupu   China\n",
       "China National Petroleum        Zhang Jianhua   China\n",
       "Toyota Motor                      Akio Toyoda   Japan"
      ]
     },
     "execution_count": 47,
     "metadata": {},
     "output_type": "execute_result"
    }
   ],
   "source": [
    "# More than one column\n",
    "f500[['ceo', 'country'] ].head()"
   ]
  },
  {
   "cell_type": "markdown",
   "id": "279646b1",
   "metadata": {},
   "source": [
    "## Select a Slice of Columns"
   ]
  },
  {
   "cell_type": "code",
   "execution_count": 37,
   "id": "c0e93c26",
   "metadata": {},
   "outputs": [
    {
     "data": {
      "text/html": [
       "<div>\n",
       "<style scoped>\n",
       "    .dataframe tbody tr th:only-of-type {\n",
       "        vertical-align: middle;\n",
       "    }\n",
       "\n",
       "    .dataframe tbody tr th {\n",
       "        vertical-align: top;\n",
       "    }\n",
       "\n",
       "    .dataframe thead th {\n",
       "        text-align: right;\n",
       "    }\n",
       "</style>\n",
       "<table border=\"1\" class=\"dataframe\">\n",
       "  <thead>\n",
       "    <tr style=\"text-align: right;\">\n",
       "      <th></th>\n",
       "      <th>ceo</th>\n",
       "      <th>industry</th>\n",
       "      <th>sector</th>\n",
       "      <th>previous_rank</th>\n",
       "      <th>country</th>\n",
       "    </tr>\n",
       "    <tr>\n",
       "      <th>company</th>\n",
       "      <th></th>\n",
       "      <th></th>\n",
       "      <th></th>\n",
       "      <th></th>\n",
       "      <th></th>\n",
       "    </tr>\n",
       "  </thead>\n",
       "  <tbody>\n",
       "    <tr>\n",
       "      <th>Walmart</th>\n",
       "      <td>C. Douglas McMillon</td>\n",
       "      <td>General Merchandisers</td>\n",
       "      <td>Retailing</td>\n",
       "      <td>1</td>\n",
       "      <td>USA</td>\n",
       "    </tr>\n",
       "    <tr>\n",
       "      <th>State Grid</th>\n",
       "      <td>Kou Wei</td>\n",
       "      <td>Utilities</td>\n",
       "      <td>Energy</td>\n",
       "      <td>2</td>\n",
       "      <td>China</td>\n",
       "    </tr>\n",
       "    <tr>\n",
       "      <th>Sinopec Group</th>\n",
       "      <td>Wang Yupu</td>\n",
       "      <td>Petroleum Refining</td>\n",
       "      <td>Energy</td>\n",
       "      <td>4</td>\n",
       "      <td>China</td>\n",
       "    </tr>\n",
       "    <tr>\n",
       "      <th>China National Petroleum</th>\n",
       "      <td>Zhang Jianhua</td>\n",
       "      <td>Petroleum Refining</td>\n",
       "      <td>Energy</td>\n",
       "      <td>3</td>\n",
       "      <td>China</td>\n",
       "    </tr>\n",
       "    <tr>\n",
       "      <th>Toyota Motor</th>\n",
       "      <td>Akio Toyoda</td>\n",
       "      <td>Motor Vehicles and Parts</td>\n",
       "      <td>Motor Vehicles &amp; Parts</td>\n",
       "      <td>8</td>\n",
       "      <td>Japan</td>\n",
       "    </tr>\n",
       "  </tbody>\n",
       "</table>\n",
       "</div>"
      ],
      "text/plain": [
       "                                          ceo                  industry  \\\n",
       "company                                                                   \n",
       "Walmart                   C. Douglas McMillon     General Merchandisers   \n",
       "State Grid                            Kou Wei                 Utilities   \n",
       "Sinopec Group                       Wang Yupu        Petroleum Refining   \n",
       "China National Petroleum        Zhang Jianhua        Petroleum Refining   \n",
       "Toyota Motor                      Akio Toyoda  Motor Vehicles and Parts   \n",
       "\n",
       "                                          sector  previous_rank country  \n",
       "company                                                                  \n",
       "Walmart                                Retailing              1     USA  \n",
       "State Grid                                Energy              2   China  \n",
       "Sinopec Group                             Energy              4   China  \n",
       "China National Petroleum                  Energy              3   China  \n",
       "Toyota Motor              Motor Vehicles & Parts              8   Japan  "
      ]
     },
     "execution_count": 37,
     "metadata": {},
     "output_type": "execute_result"
    }
   ],
   "source": [
    "f500.loc[:,'ceo':'country'].head()"
   ]
  },
  {
   "cell_type": "markdown",
   "id": "3f2e6123",
   "metadata": {},
   "source": [
    "## Selecting Rows from a DataFrame by Label"
   ]
  },
  {
   "attachments": {
    "image.png": {
     "image/png": "[encoded data removed]"
    }
   },
   "cell_type": "markdown",
   "id": "dddaab6c",
   "metadata": {},
   "source": [
    "![image.png](attachment:image.png)"
   ]
  },
  {
   "cell_type": "code",
   "execution_count": 54,
   "id": "76061f63",
   "metadata": {},
   "outputs": [
    {
     "data": {
      "text/html": [
       "<div>\n",
       "<style scoped>\n",
       "    .dataframe tbody tr th:only-of-type {\n",
       "        vertical-align: middle;\n",
       "    }\n",
       "\n",
       "    .dataframe tbody tr th {\n",
       "        vertical-align: top;\n",
       "    }\n",
       "\n",
       "    .dataframe thead th {\n",
       "        text-align: right;\n",
       "    }\n",
       "</style>\n",
       "<table border=\"1\" class=\"dataframe\">\n",
       "  <thead>\n",
       "    <tr style=\"text-align: right;\">\n",
       "      <th></th>\n",
       "      <th>rank</th>\n",
       "      <th>revenues</th>\n",
       "      <th>revenue_change</th>\n",
       "      <th>profits</th>\n",
       "      <th>assets</th>\n",
       "      <th>profit_change</th>\n",
       "      <th>ceo</th>\n",
       "      <th>industry</th>\n",
       "      <th>sector</th>\n",
       "      <th>previous_rank</th>\n",
       "      <th>country</th>\n",
       "      <th>hq_location</th>\n",
       "      <th>website</th>\n",
       "      <th>years_on_global_500_list</th>\n",
       "      <th>employees</th>\n",
       "      <th>total_stockholder_equity</th>\n",
       "    </tr>\n",
       "    <tr>\n",
       "      <th>company</th>\n",
       "      <th></th>\n",
       "      <th></th>\n",
       "      <th></th>\n",
       "      <th></th>\n",
       "      <th></th>\n",
       "      <th></th>\n",
       "      <th></th>\n",
       "      <th></th>\n",
       "      <th></th>\n",
       "      <th></th>\n",
       "      <th></th>\n",
       "      <th></th>\n",
       "      <th></th>\n",
       "      <th></th>\n",
       "      <th></th>\n",
       "      <th></th>\n",
       "    </tr>\n",
       "  </thead>\n",
       "  <tbody>\n",
       "    <tr>\n",
       "      <th>Walmart</th>\n",
       "      <td>1</td>\n",
       "      <td>485873</td>\n",
       "      <td>0.8</td>\n",
       "      <td>13643.0</td>\n",
       "      <td>198825</td>\n",
       "      <td>-7.2</td>\n",
       "      <td>C. Douglas McMillon</td>\n",
       "      <td>General Merchandisers</td>\n",
       "      <td>Retailing</td>\n",
       "      <td>1</td>\n",
       "      <td>USA</td>\n",
       "      <td>Bentonville, AR</td>\n",
       "      <td>http://www.walmart.com</td>\n",
       "      <td>23</td>\n",
       "      <td>2300000</td>\n",
       "      <td>77798</td>\n",
       "    </tr>\n",
       "    <tr>\n",
       "      <th>State Grid</th>\n",
       "      <td>2</td>\n",
       "      <td>315199</td>\n",
       "      <td>-4.4</td>\n",
       "      <td>9571.3</td>\n",
       "      <td>489838</td>\n",
       "      <td>-6.2</td>\n",
       "      <td>Kou Wei</td>\n",
       "      <td>Utilities</td>\n",
       "      <td>Energy</td>\n",
       "      <td>2</td>\n",
       "      <td>China</td>\n",
       "      <td>Beijing, China</td>\n",
       "      <td>http://www.sgcc.com.cn</td>\n",
       "      <td>17</td>\n",
       "      <td>926067</td>\n",
       "      <td>209456</td>\n",
       "    </tr>\n",
       "    <tr>\n",
       "      <th>Sinopec Group</th>\n",
       "      <td>3</td>\n",
       "      <td>267518</td>\n",
       "      <td>-9.1</td>\n",
       "      <td>1257.9</td>\n",
       "      <td>310726</td>\n",
       "      <td>-65.0</td>\n",
       "      <td>Wang Yupu</td>\n",
       "      <td>Petroleum Refining</td>\n",
       "      <td>Energy</td>\n",
       "      <td>4</td>\n",
       "      <td>China</td>\n",
       "      <td>Beijing, China</td>\n",
       "      <td>http://www.sinopec.com</td>\n",
       "      <td>19</td>\n",
       "      <td>713288</td>\n",
       "      <td>106523</td>\n",
       "    </tr>\n",
       "    <tr>\n",
       "      <th>China National Petroleum</th>\n",
       "      <td>4</td>\n",
       "      <td>262573</td>\n",
       "      <td>-12.3</td>\n",
       "      <td>1867.5</td>\n",
       "      <td>585619</td>\n",
       "      <td>-73.7</td>\n",
       "      <td>Zhang Jianhua</td>\n",
       "      <td>Petroleum Refining</td>\n",
       "      <td>Energy</td>\n",
       "      <td>3</td>\n",
       "      <td>China</td>\n",
       "      <td>Beijing, China</td>\n",
       "      <td>http://www.cnpc.com.cn</td>\n",
       "      <td>17</td>\n",
       "      <td>1512048</td>\n",
       "      <td>301893</td>\n",
       "    </tr>\n",
       "    <tr>\n",
       "      <th>Toyota Motor</th>\n",
       "      <td>5</td>\n",
       "      <td>254694</td>\n",
       "      <td>7.7</td>\n",
       "      <td>16899.3</td>\n",
       "      <td>437575</td>\n",
       "      <td>-12.3</td>\n",
       "      <td>Akio Toyoda</td>\n",
       "      <td>Motor Vehicles and Parts</td>\n",
       "      <td>Motor Vehicles &amp; Parts</td>\n",
       "      <td>8</td>\n",
       "      <td>Japan</td>\n",
       "      <td>Toyota, Japan</td>\n",
       "      <td>http://www.toyota-global.com</td>\n",
       "      <td>23</td>\n",
       "      <td>364445</td>\n",
       "      <td>157210</td>\n",
       "    </tr>\n",
       "  </tbody>\n",
       "</table>\n",
       "</div>"
      ],
      "text/plain": [
       "                          rank  revenues  revenue_change  profits  assets  \\\n",
       "company                                                                     \n",
       "Walmart                      1    485873             0.8  13643.0  198825   \n",
       "State Grid                   2    315199            -4.4   9571.3  489838   \n",
       "Sinopec Group                3    267518            -9.1   1257.9  310726   \n",
       "China National Petroleum     4    262573           -12.3   1867.5  585619   \n",
       "Toyota Motor                 5    254694             7.7  16899.3  437575   \n",
       "\n",
       "                          profit_change                  ceo  \\\n",
       "company                                                        \n",
       "Walmart                            -7.2  C. Douglas McMillon   \n",
       "State Grid                         -6.2              Kou Wei   \n",
       "Sinopec Group                     -65.0            Wang Yupu   \n",
       "China National Petroleum          -73.7        Zhang Jianhua   \n",
       "Toyota Motor                      -12.3          Akio Toyoda   \n",
       "\n",
       "                                          industry                  sector  \\\n",
       "company                                                                      \n",
       "Walmart                      General Merchandisers               Retailing   \n",
       "State Grid                               Utilities                  Energy   \n",
       "Sinopec Group                   Petroleum Refining                  Energy   \n",
       "China National Petroleum        Petroleum Refining                  Energy   \n",
       "Toyota Motor              Motor Vehicles and Parts  Motor Vehicles & Parts   \n",
       "\n",
       "                          previous_rank country      hq_location  \\\n",
       "company                                                            \n",
       "Walmart                               1     USA  Bentonville, AR   \n",
       "State Grid                            2   China   Beijing, China   \n",
       "Sinopec Group                         4   China   Beijing, China   \n",
       "China National Petroleum              3   China   Beijing, China   \n",
       "Toyota Motor                          8   Japan    Toyota, Japan   \n",
       "\n",
       "                                               website  \\\n",
       "company                                                  \n",
       "Walmart                         http://www.walmart.com   \n",
       "State Grid                      http://www.sgcc.com.cn   \n",
       "Sinopec Group                   http://www.sinopec.com   \n",
       "China National Petroleum        http://www.cnpc.com.cn   \n",
       "Toyota Motor              http://www.toyota-global.com   \n",
       "\n",
       "                          years_on_global_500_list  employees  \\\n",
       "company                                                         \n",
       "Walmart                                         23    2300000   \n",
       "State Grid                                      17     926067   \n",
       "Sinopec Group                                   19     713288   \n",
       "China National Petroleum                        17    1512048   \n",
       "Toyota Motor                                    23     364445   \n",
       "\n",
       "                          total_stockholder_equity  \n",
       "company                                             \n",
       "Walmart                                      77798  \n",
       "State Grid                                  209456  \n",
       "Sinopec Group                               106523  \n",
       "China National Petroleum                    301893  \n",
       "Toyota Motor                                157210  "
      ]
     },
     "execution_count": 54,
     "metadata": {},
     "output_type": "execute_result"
    }
   ],
   "source": [
    "# Slicing rows, we dont need .loc \n",
    "f500['Walmart': 'Toyota Motor']"
   ]
  },
  {
   "attachments": {
    "image.png": {
     "image/png": "[encoded data removed]"
    }
   },
   "cell_type": "markdown",
   "id": "cc49fc28",
   "metadata": {},
   "source": [
    "![image.png](attachment:image.png)"
   ]
  },
  {
   "cell_type": "markdown",
   "id": "345eb841",
   "metadata": {},
   "source": [
    "**Exercise:**\n",
    "\n",
    "1. Create a new variable toyota, by making a selection from f500 with:\n",
    "> - The single row with the label Toyota Motor.\n",
    "> - All columns.\n",
    "2. Create a new variable, drink_companies, by making a selection from f500 with:\n",
    "> - Rows with the labels Anheuser-Busch InBev, Coca-Cola, and Heineken Holding, in that order.\n",
    "> - All columns.\n",
    "3. Create a new variable, middle_companies, by making a selection from f500 with:\n",
    "> - All rows with labels from Tata Motors to Nationwide, inclusive.\n",
    "> - All columns.\n",
    "4. Print the toyota Series to inspect it. Use the variable inspector to view the two DataFrames created above."
   ]
  },
  {
   "cell_type": "code",
   "execution_count": 62,
   "id": "1031f837",
   "metadata": {
    "scrolled": true
   },
   "outputs": [
    {
     "name": "stdout",
     "output_type": "stream",
     "text": [
      "rank                                                   5\n",
      "revenues                                          254694\n",
      "revenue_change                                       7.7\n",
      "profits                                          16899.3\n",
      "assets                                            437575\n",
      "profit_change                                      -12.3\n",
      "ceo                                          Akio Toyoda\n",
      "industry                        Motor Vehicles and Parts\n",
      "sector                            Motor Vehicles & Parts\n",
      "previous_rank                                          8\n",
      "country                                            Japan\n",
      "hq_location                                Toyota, Japan\n",
      "website                     http://www.toyota-global.com\n",
      "years_on_global_500_list                              23\n",
      "employees                                         364445\n",
      "total_stockholder_equity                          157210\n",
      "Name: Toyota Motor, dtype: object\n"
     ]
    }
   ],
   "source": [
    "toyota = f500.loc['Toyota Motor']\n",
    "drink_companies = f500.loc[['Anheuser-Busch InBev', 'Coca-Cola', 'Heineken Holding']]\n",
    "middle_companies = f500['Tata Motors' : 'Nationwide']\n",
    "\n",
    "print(toyota)\n"
   ]
  },
  {
   "cell_type": "markdown",
   "id": "bbd2a5e7",
   "metadata": {},
   "source": [
    "## method value_counts()"
   ]
  },
  {
   "cell_type": "code",
   "execution_count": 63,
   "id": "27e4edc2",
   "metadata": {},
   "outputs": [],
   "source": [
    "sectors = f500['sector']"
   ]
  },
  {
   "cell_type": "code",
   "execution_count": 64,
   "id": "5ab4d4bc",
   "metadata": {},
   "outputs": [
    {
     "data": {
      "text/plain": [
       "company\n",
       "Walmart                                        Retailing\n",
       "State Grid                                        Energy\n",
       "Sinopec Group                                     Energy\n",
       "China National Petroleum                          Energy\n",
       "Toyota Motor                      Motor Vehicles & Parts\n",
       "                                           ...          \n",
       "Teva Pharmaceutical Industries               Health Care\n",
       "New China Life Insurance                      Financials\n",
       "Wm. Morrison Supermarkets             Food & Drug Stores\n",
       "TUI                                    Business Services\n",
       "AutoNation                                     Retailing\n",
       "Name: sector, Length: 500, dtype: object"
      ]
     },
     "execution_count": 64,
     "metadata": {},
     "output_type": "execute_result"
    }
   ],
   "source": [
    "sectors"
   ]
  },
  {
   "cell_type": "code",
   "execution_count": 66,
   "id": "0f4643b0",
   "metadata": {},
   "outputs": [
    {
     "data": {
      "text/plain": [
       "Financials                       118\n",
       "Energy                            80\n",
       "Technology                        44\n",
       "Motor Vehicles & Parts            34\n",
       "Wholesalers                       28\n",
       "Health Care                       27\n",
       "Food & Drug Stores                20\n",
       "Transportation                    19\n",
       "Telecommunications                18\n",
       "Retailing                         17\n",
       "Food, Beverages & Tobacco         16\n",
       "Materials                         16\n",
       "Industrials                       15\n",
       "Aerospace & Defense               14\n",
       "Engineering & Construction        13\n",
       "Chemicals                          7\n",
       "Household Products                 3\n",
       "Media                              3\n",
       "Hotels, Restaurants & Leisure      3\n",
       "Business Services                  3\n",
       "Apparel                            2\n",
       "Name: sector, dtype: int64"
      ]
     },
     "execution_count": 66,
     "metadata": {},
     "output_type": "execute_result"
    }
   ],
   "source": [
    "# Use series.value_counts()\n",
    "sectors.value_counts()"
   ]
  },
  {
   "cell_type": "code",
   "execution_count": 70,
   "id": "d474655a",
   "metadata": {},
   "outputs": [
    {
     "name": "stdout",
     "output_type": "stream",
     "text": [
      "country    sector     \n",
      "USA        Financials     27\n",
      "China      Financials     25\n",
      "           Energy         22\n",
      "USA        Health Care    15\n",
      "           Technology     14\n",
      "                          ..\n",
      "Ireland    Industrials     1\n",
      "           Health Care     1\n",
      "Indonesia  Energy          1\n",
      "India      Wholesalers     1\n",
      "Venezuela  Financials      1\n",
      "Length: 158, dtype: int64\n"
     ]
    }
   ],
   "source": [
    "# Let's try and use it on DataFrame\n",
    "\n",
    "country_sectors = f500[['country','sector']]\n",
    "print(country_sectors.value_counts())"
   ]
  },
  {
   "cell_type": "code",
   "execution_count": 71,
   "id": "cf57e8c5",
   "metadata": {},
   "outputs": [
    {
     "name": "stdout",
     "output_type": "stream",
     "text": [
      "sector               country    \n",
      "Financials           USA            27\n",
      "                     China          25\n",
      "Energy               China          22\n",
      "Health Care          USA            15\n",
      "Technology           USA            14\n",
      "                                    ..\n",
      "Financials           India           1\n",
      "                     Russia          1\n",
      "Industrials          Switzerland     1\n",
      "                     South Korea     1\n",
      "Aerospace & Defense  Britain         1\n",
      "Length: 158, dtype: int64\n"
     ]
    }
   ],
   "source": [
    "sectors_country = f500[['sector','country']]\n",
    "print(sectors_country.value_counts())\n"
   ]
  },
  {
   "cell_type": "markdown",
   "id": "f3aeb044",
   "metadata": {},
   "source": [
    "**In the example above, the counts returned are based on a combination of the unique non-null values found in both the sector and industry columns.**"
   ]
  },
  {
   "cell_type": "markdown",
   "id": "3a66506e",
   "metadata": {},
   "source": [
    "## Selecting Items from a Series by Label"
   ]
  },
  {
   "cell_type": "code",
   "execution_count": 72,
   "id": "b7d5a30c",
   "metadata": {},
   "outputs": [
    {
     "name": "stdout",
     "output_type": "stream",
     "text": [
      "<class 'numpy.int64'>\n",
      "7\n"
     ]
    }
   ],
   "source": [
    "countries = f500[\"country\"]\n",
    "country_counts = countries.value_counts()\n",
    "\n",
    "india = country_counts['India']\n",
    "\n",
    "print(type(india))\n",
    "print(india)"
   ]
  },
  {
   "cell_type": "code",
   "execution_count": 74,
   "id": "a1c3f4a9",
   "metadata": {},
   "outputs": [
    {
     "name": "stdout",
     "output_type": "stream",
     "text": [
      "<class 'pandas.core.series.Series'>\n",
      "USA       132\n",
      "Canada     11\n",
      "Mexico      2\n",
      "Name: country, dtype: int64\n",
      "<class 'pandas.core.series.Series'>\n",
      "Japan          51\n",
      "Germany        29\n",
      "France         29\n",
      "Britain        24\n",
      "South Korea    15\n",
      "Netherlands    14\n",
      "Switzerland    14\n",
      "Canada         11\n",
      "Spain           9\n",
      "Name: country, dtype: int64\n"
     ]
    }
   ],
   "source": [
    "north_america = country_counts[['USA', 'Canada', 'Mexico']]\n",
    "print(type(north_america))\n",
    "print(north_america)\n",
    "\n",
    "japan_to_spain = country_counts['Japan' : 'Spain']\n",
    "print(type(japan_to_spain))\n",
    "print(japan_to_spain)"
   ]
  },
  {
   "attachments": {
    "image.png": {
     "image/png": "[encoded data removed]"
    }
   },
   "cell_type": "markdown",
   "id": "5003f4ea",
   "metadata": {},
   "source": [
    "**SUMMARY**\n",
    "![image.png](attachment:image.png)"
   ]
  },
  {
   "cell_type": "markdown",
   "id": "3cd8b033",
   "metadata": {},
   "source": [
    "## Summary Challenge"
   ]
  },
  {
   "cell_type": "markdown",
   "id": "05efffb9",
   "metadata": {},
   "source": [
    "1. Create a new variable, big_movers, by making a selection from f500 with:\n",
    "- Row labels: Aviva, HP, JD.com, and BHP Billiton, in that order.\n",
    "- Column labels: rank and previous_rank, in that order.\n",
    "2. Create a new variable, bottom_companies, by making a selection from f500 with:\n",
    "- Row labels: from National Grid to AutoNation, inclusive.\n",
    "- Column labels: rank, sector, and country, in that order.\n",
    "3. Create a new variable, revenue_giants, by making a selection from f500 with:\n",
    "- Row labels: Apple, Industrial & Commercial Bank of China, China Construction Bank, and Agricultural Bank of China, in that order.\n",
    "- Column labels: from revenues to profit_change, inclusive.\n",
    "4. Use the variable inspector to view the three variables created above."
   ]
  },
  {
   "cell_type": "code",
   "execution_count": 77,
   "id": "f00aa24f",
   "metadata": {},
   "outputs": [
    {
     "name": "stdout",
     "output_type": "stream",
     "text": [
      "              rank  previous_rank\n",
      "company                          \n",
      "Aviva           90            279\n",
      "HP             194             48\n",
      "JD.com         261            366\n",
      "BHP Billiton   350            168\n",
      "                                       rank              sector  country\n",
      "company                                                                 \n",
      "National Grid                           491              Energy  Britain\n",
      "Dollar General                          492           Retailing      USA\n",
      "Telecom Italia                          493  Telecommunications    Italy\n",
      "Xiamen ITG Holding Group                494         Wholesalers    China\n",
      "Xinjiang Guanghui Industry Investment   495         Wholesalers    China\n",
      "Teva Pharmaceutical Industries          496         Health Care   Israel\n",
      "New China Life Insurance                497          Financials    China\n",
      "Wm. Morrison Supermarkets               498  Food & Drug Stores  Britain\n",
      "TUI                                     499   Business Services  Germany\n",
      "AutoNation                              500           Retailing      USA\n",
      "                                       revenues  revenue_change  profits  \\\n",
      "company                                                                    \n",
      "Apple                                    215639            -7.7  45687.0   \n",
      "Industrial & Commercial Bank of China    147675           -11.7  41883.9   \n",
      "China Construction Bank                  135093            -8.7  34840.9   \n",
      "Agricultural Bank of China               117275           -12.1  27687.8   \n",
      "\n",
      "                                        assets  profit_change  \n",
      "company                                                        \n",
      "Apple                                   321686          -14.4  \n",
      "Industrial & Commercial Bank of China  3473238           -5.0  \n",
      "China Construction Bank                3016578           -4.0  \n",
      "Agricultural Bank of China             2816039           -3.6  \n"
     ]
    }
   ],
   "source": [
    "big_movers = f500.loc[['Aviva', 'HP', 'JD.com', 'BHP Billiton'], ['rank', 'previous_rank']]\n",
    "bottom_companies = f500.loc[ 'National Grid' : 'AutoNation', ['rank', 'sector', 'country']]\n",
    "revenue_giants = f500.loc[['Apple', 'Industrial & Commercial Bank of China', 'China Construction Bank', 'Agricultural Bank of China'],\n",
    "                         'revenues' : 'profit_change']\n",
    "print(big_movers)\n",
    "print(bottom_companies)\n",
    "print(revenue_giants)"
   ]
  },
  {
   "cell_type": "markdown",
   "id": "65d4d0f7",
   "metadata": {},
   "source": [
    "# Vector operations on Series and DataFrames"
   ]
  },
  {
   "attachments": {
    "image.png": {
     "image/png": "[encoded data removed]"
    }
   },
   "cell_type": "markdown",
   "id": "f7e4ebac",
   "metadata": {},
   "source": [
    "Vector ops are possible just like NumPy\n",
    "![image.png](attachment:image.png)"
   ]
  },
  {
   "cell_type": "markdown",
   "id": "4c38d785",
   "metadata": {},
   "source": [
    "---\n",
    "\n",
    "Subtract the values in the rank column from the values in the previous_rank column. Assign the result to rank_change.\n"
   ]
  },
  {
   "cell_type": "code",
   "execution_count": 78,
   "id": "b121a457",
   "metadata": {},
   "outputs": [],
   "source": [
    "rank_change = f500[\"previous_rank\"] - f500[\"rank\"]"
   ]
  },
  {
   "cell_type": "code",
   "execution_count": 79,
   "id": "95e6479b",
   "metadata": {},
   "outputs": [
    {
     "data": {
      "text/plain": [
       "pandas.core.series.Series"
      ]
     },
     "execution_count": 79,
     "metadata": {},
     "output_type": "execute_result"
    }
   ],
   "source": [
    "type(rank_change)"
   ]
  },
  {
   "cell_type": "code",
   "execution_count": 80,
   "id": "c2ccc553",
   "metadata": {},
   "outputs": [
    {
     "data": {
      "text/plain": [
       "company\n",
       "Walmart                     0\n",
       "State Grid                  0\n",
       "Sinopec Group               1\n",
       "China National Petroleum   -1\n",
       "Toyota Motor                3\n",
       "dtype: int64"
      ]
     },
     "execution_count": 80,
     "metadata": {},
     "output_type": "execute_result"
    }
   ],
   "source": [
    "rank_change.head()"
   ]
  },
  {
   "cell_type": "markdown",
   "id": "c1793639",
   "metadata": {},
   "source": [
    "## Series Data Exploration Methods"
   ]
  },
  {
   "cell_type": "markdown",
   "id": "60a3b23a",
   "metadata": {},
   "source": [
    "Like NumPy, pandas supports many descriptive stats methods that can help us answer these questions. Here are a few of the most useful ones (with links to documentation):\n",
    "\n",
    "- [Series.max()](http://pandas.pydata.org/pandas-docs/stable/generated/pandas.Series.max.html)\n",
    "- [Series.min()](http://pandas.pydata.org/pandas-docs/stable/generated/pandas.Series.min.html)\n",
    "- [Series.mean()](http://pandas.pydata.org/pandas-docs/stable/generated/pandas.Series.mean.html)\n",
    "- [Series.median()](http://pandas.pydata.org/pandas-docs/stable/generated/pandas.Series.median.html)\n",
    "- [Series.mode()](http://pandas.pydata.org/pandas-docs/stable/generated/pandas.Series.mode.html)\n",
    "- [Series.sum()](http://pandas.pydata.org/pandas-docs/stable/generated/pandas.Series.sum.html)\n"
   ]
  },
  {
   "cell_type": "markdown",
   "id": "49aaa2df",
   "metadata": {},
   "source": [
    "**Instructions**\n",
    "1. Use the Series.max() method to find the maximum value for the rank_change series. Assign the result to the variable rank_change_max.\n",
    "1. Use the Series.min() method to find the minimum value for the rank_change series. Assign the result to the variable rank_change_min.\n",
    "1. After running your code, use the variable inspector to view the new variable you created."
   ]
  },
  {
   "cell_type": "code",
   "execution_count": 82,
   "id": "f71ca782",
   "metadata": {},
   "outputs": [
    {
     "name": "stdout",
     "output_type": "stream",
     "text": [
      "226\n",
      "-500\n"
     ]
    }
   ],
   "source": [
    "rank_change =  f500[\"previous_rank\"] - f500[\"rank\"]\n",
    "\n",
    "print(rank_change.max())\n",
    "print(rank_change.min())"
   ]
  },
  {
   "cell_type": "markdown",
   "id": "ca3bb01a",
   "metadata": {},
   "source": [
    "## Series Describe Method"
   ]
  },
  {
   "cell_type": "markdown",
   "id": "51ac5eb4",
   "metadata": {},
   "source": [
    "Next, we'll learn another method that can help us more quickly investigate this issue - the **[Series.describe()](http://pandas.pydata.org/pandas-docs/stable/generated/pandas.Series.describe.html#pandas.Series.describe)** method. This method tells us how many non-null values are contained in the series, along with the mean, minimum, maximum, and other statistics we'll learn about later in this path."
   ]
  },
  {
   "cell_type": "code",
   "execution_count": 83,
   "id": "391e339f",
   "metadata": {},
   "outputs": [
    {
     "data": {
      "text/plain": [
       "count    500.000000\n",
       "mean     -28.366000\n",
       "std      108.602823\n",
       "min     -500.000000\n",
       "25%      -28.250000\n",
       "50%       -4.000000\n",
       "75%        8.250000\n",
       "max      226.000000\n",
       "dtype: float64"
      ]
     },
     "execution_count": 83,
     "metadata": {},
     "output_type": "execute_result"
    }
   ],
   "source": [
    "rank_change.describe()"
   ]
  },
  {
   "cell_type": "code",
   "execution_count": 86,
   "id": "d28b1f8c",
   "metadata": {},
   "outputs": [
    {
     "data": {
      "text/plain": [
       "count    5.000000e+02\n",
       "mean     2.436323e+05\n",
       "std      4.851937e+05\n",
       "min      3.717000e+03\n",
       "25%      3.658850e+04\n",
       "50%      7.326150e+04\n",
       "75%      1.805640e+05\n",
       "max      3.473238e+06\n",
       "Name: assets, dtype: float64"
      ]
     },
     "execution_count": 86,
     "metadata": {},
     "output_type": "execute_result"
    }
   ],
   "source": [
    "f500[\"assets\"].describe()"
   ]
  },
  {
   "cell_type": "code",
   "execution_count": 88,
   "id": "8a6e30ce",
   "metadata": {},
   "outputs": [
    {
     "data": {
      "text/plain": [
       "count     500\n",
       "unique     34\n",
       "top       USA\n",
       "freq      132\n",
       "Name: country, dtype: object"
      ]
     },
     "execution_count": 88,
     "metadata": {},
     "output_type": "execute_result"
    }
   ],
   "source": [
    "# If we run describe on non-numeric columns, we get something else\n",
    "f500[\"country\"].describe()"
   ]
  },
  {
   "cell_type": "code",
   "execution_count": 89,
   "id": "10bf5165",
   "metadata": {},
   "outputs": [
    {
     "data": {
      "text/plain": [
       "count    500.000000\n",
       "mean     222.134000\n",
       "std      146.941961\n",
       "min        0.000000\n",
       "25%       92.750000\n",
       "50%      219.500000\n",
       "75%      347.250000\n",
       "max      500.000000\n",
       "Name: previous_rank, dtype: float64"
      ]
     },
     "execution_count": 89,
     "metadata": {},
     "output_type": "execute_result"
    }
   ],
   "source": [
    "f500[\"previous_rank\"].describe()"
   ]
  },
  {
   "cell_type": "code",
   "execution_count": 90,
   "id": "43bd3d67",
   "metadata": {},
   "outputs": [
    {
     "data": {
      "text/plain": [
       "count    500.000000\n",
       "mean     250.500000\n",
       "std      144.481833\n",
       "min        1.000000\n",
       "25%      125.750000\n",
       "50%      250.500000\n",
       "75%      375.250000\n",
       "max      500.000000\n",
       "Name: rank, dtype: float64"
      ]
     },
     "execution_count": 90,
     "metadata": {},
     "output_type": "execute_result"
    }
   ],
   "source": [
    "f500[\"rank\"].describe()"
   ]
  },
  {
   "cell_type": "code",
   "execution_count": 94,
   "id": "7311c470",
   "metadata": {},
   "outputs": [
    {
     "data": {
      "text/plain": [
       "0      33\n",
       "1       1\n",
       "302     1\n",
       "334     1\n",
       "325     1\n",
       "       ..\n",
       "178     1\n",
       "123     1\n",
       "136     1\n",
       "209     1\n",
       "467     1\n",
       "Name: previous_rank, Length: 468, dtype: int64"
      ]
     },
     "execution_count": 94,
     "metadata": {},
     "output_type": "execute_result"
    }
   ],
   "source": [
    "# We have a strange value 0 in previous_rank\n",
    "# Recall that in the last lesson, we learned how to use the Series.value_counts() \n",
    "   # method to display the counts of the unique values in a column:\n",
    "    \n",
    "f500[\"previous_rank\"].value_counts()"
   ]
  },
  {
   "cell_type": "code",
   "execution_count": 97,
   "id": "2bf69825",
   "metadata": {},
   "outputs": [
    {
     "data": {
      "text/plain": [
       "33"
      ]
     },
     "execution_count": 97,
     "metadata": {},
     "output_type": "execute_result"
    }
   ],
   "source": [
    "f500[\"previous_rank\"].value_counts()[0] # There are 33 0's in the data"
   ]
  },
  {
   "cell_type": "markdown",
   "id": "ab348467",
   "metadata": {},
   "source": [
    "## Dataframe Exploration Methods"
   ]
  },
  {
   "attachments": {
    "image.png": {
     "image/png": "[encoded data removed]"
    }
   },
   "cell_type": "markdown",
   "id": "db29572b",
   "metadata": {},
   "source": [
    "**There are many similar methods between Series and DataFrames like:**\n",
    "- Series.max() and DataFrame.max()\n",
    "- Series.min() and DataFrame.min()\n",
    "- Series.mean() and DataFrame.mean()\n",
    "- Series.median() and DataFrame.median()\n",
    "- Series.mode() and DataFrame.mode()\n",
    "- Series.sum() and DataFrame.sum()\n",
    "\n",
    "Unlike their series counterparts, dataframe methods require an axis parameter so we know which axis to calculate across. While you can use integers to refer to the first and second axis, pandas dataframe methods also accept the strings **\"index\"** and **\"columns\"** for the axis parameter:\n",
    "![image.png](attachment:image.png)"
   ]
  },
  {
   "cell_type": "code",
   "execution_count": 104,
   "id": "5ab9d7b7",
   "metadata": {},
   "outputs": [
    {
     "data": {
      "text/plain": [
       "revenues    40236.0\n",
       "profits      1761.6\n",
       "dtype: float64"
      ]
     },
     "execution_count": 104,
     "metadata": {},
     "output_type": "execute_result"
    }
   ],
   "source": [
    "# Calculating media values\n",
    "\n",
    "f500[[\"revenues\", \"profits\"]].median(axis='index') # or axis = 0 will also work\n",
    "f500[[\"revenues\", \"profits\"]].median()             # This also work because the default axis is 0 "
   ]
  },
  {
   "cell_type": "markdown",
   "id": "8c47818f",
   "metadata": {},
   "source": [
    "## Selecting the columns using data types\n",
    "\n",
    "DataFrame.select_dtypes(include=None, exclude=None) <br>\n",
    "[DataFrame.select_dtypes()](https://pandas.pydata.org/docs/reference/api/pandas.DataFrame.select_dtypes.html)"
   ]
  },
  {
   "cell_type": "code",
   "execution_count": 114,
   "id": "8c7ad50e",
   "metadata": {},
   "outputs": [
    {
     "name": "stdout",
     "output_type": "stream",
     "text": [
      "rank                            500.0\n",
      "revenues                     485873.0\n",
      "revenue_change                  442.3\n",
      "profits                       45687.0\n",
      "assets                      3473238.0\n",
      "profit_change                  8909.5\n",
      "previous_rank                   500.0\n",
      "years_on_global_500_list         23.0\n",
      "employees                   2300000.0\n",
      "total_stockholder_equity     301893.0\n",
      "dtype: float64\n"
     ]
    }
   ],
   "source": [
    "# use select_dtypes\n",
    "# Use the DataFrame.max() method to find the maximum value for only the numeric columns from f500 \n",
    "# (you may need to check the documentation). \n",
    "# Assign the result to the variable max_f500.\n",
    "\n",
    "max_f500 = f500.select_dtypes(include = ['number']).max(axis='index')\n",
    "print(max_f500)\n"
   ]
  },
  {
   "cell_type": "markdown",
   "id": "ad60b306",
   "metadata": {},
   "source": [
    "## Dataframe Describe Method"
   ]
  },
  {
   "cell_type": "code",
   "execution_count": 121,
   "id": "9cf84069",
   "metadata": {},
   "outputs": [
    {
     "name": "stdout",
     "output_type": "stream",
     "text": [
      "                        ceo                       industry      sector  \\\n",
      "count                   500                            500         500   \n",
      "unique                  500                             58          21   \n",
      "top     C. Douglas McMillon  Banks: Commercial and Savings  Financials   \n",
      "freq                      1                             51         118   \n",
      "\n",
      "       country     hq_location                 website  \n",
      "count      500             500                     500  \n",
      "unique      34             235                     500  \n",
      "top        USA  Beijing, China  http://www.walmart.com  \n",
      "freq       132              56                       1  \n"
     ]
    }
   ],
   "source": [
    "# Describe only give us the summary of umeric \n",
    "print( f500.describe())"
   ]
  },
  {
   "cell_type": "code",
   "execution_count": 122,
   "id": "ca0a57e8",
   "metadata": {},
   "outputs": [
    {
     "name": "stdout",
     "output_type": "stream",
     "text": [
      "                        ceo                       industry      sector  \\\n",
      "count                   500                            500         500   \n",
      "unique                  500                             58          21   \n",
      "top     C. Douglas McMillon  Banks: Commercial and Savings  Financials   \n",
      "freq                      1                             51         118   \n",
      "\n",
      "       country     hq_location                 website  \n",
      "count      500             500                     500  \n",
      "unique      34             235                     500  \n",
      "top        USA  Beijing, China  http://www.walmart.com  \n",
      "freq       132              56                       1  \n"
     ]
    }
   ],
   "source": [
    "print( f500.describe(include=['O']))"
   ]
  }
 ],
 "metadata": {
  "kernelspec": {
   "display_name": "Python 3 (ipykernel)",
   "language": "python",
   "name": "python3"
  },
  "language_info": {
   "codemirror_mode": {
    "name": "ipython",
    "version": 3
   },
   "file_extension": ".py",
   "mimetype": "text/x-python",
   "name": "python",
   "nbconvert_exporter": "python",
   "pygments_lexer": "ipython3",
   "version": "3.10.6"
  },
  "toc": {
   "base_numbering": 1,
   "nav_menu": {},
   "number_sections": true,
   "sideBar": true,
   "skip_h1_title": false,
   "title_cell": "Table of Contents",
   "title_sidebar": "Contents",
   "toc_cell": false,
   "toc_position": {},
   "toc_section_display": true,
   "toc_window_display": false
  }
 },
 "nbformat": 4,
 "nbformat_minor": 5
}
