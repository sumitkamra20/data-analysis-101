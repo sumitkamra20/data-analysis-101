{
 "cells": [
  {
   "cell_type": "markdown",
   "id": "d13868b6-afbd-4810-86eb-f76f5d66e71b",
   "metadata": {},
   "source": [
    "# Guided Project: Exploring eBay Car Sales Data"
   ]
  },
  {
   "cell_type": "markdown",
   "id": "3b183534-593e-40e3-be83-f6a7cd9028cc",
   "metadata": {},
   "source": [
    "In this guided project, we'll work with a dataset of used cars from eBay Kleinanzeigen, a classifieds section of the German eBay website.\n",
    "\n",
    "The dataset was originally scraped and uploaded to Kaggle by user orgesleka.\n",
    "The original dataset isn't available on Kaggle anymore, but you can find it [here](https://data.world/data-society/used-cars-data).\n",
    "\n",
    "We've made a few modifications from the original dataset:\n",
    "\n",
    "* We sampled 50,000 data points from the full dataset, to ensure your code runs quickly in our hosted environment\n",
    "* We dirtied the dataset a bit to more closely resemble what you would expect from a scraped dataset (the version uploaded to Kaggle was cleaned to be easier to work with)\n",
    "\n",
    "**The aim of this project is to clean the data and analyze the included used car listings.**"
   ]
  },
  {
   "cell_type": "markdown",
   "id": "436c0a77-adfd-45eb-8eaa-9bc26205bc0a",
   "metadata": {},
   "source": [
    "## Loading and inspecting data"
   ]
  },
  {
   "cell_type": "code",
   "execution_count": 33,
   "id": "de39f1dc-8ec6-4ab2-b8a1-4f0749759caa",
   "metadata": {},
   "outputs": [],
   "source": [
    "import numpy as np\n",
    "import pandas as pd"
   ]
  },
  {
   "cell_type": "code",
   "execution_count": 34,
   "id": "5fd4616e-d003-4029-b9a2-de8b5837361e",
   "metadata": {},
   "outputs": [],
   "source": [
    "autos = pd.read_csv('data/autos.csv', encoding=\"Latin-1\")"
   ]
  },
  {
   "cell_type": "code",
   "execution_count": 35,
   "id": "01461c35-fff7-45b3-85a6-e8dd19a2b31e",
   "metadata": {},
   "outputs": [
    {
     "data": {
      "text/html": [
       "<div>\n",
       "<style scoped>\n",
       "    .dataframe tbody tr th:only-of-type {\n",
       "        vertical-align: middle;\n",
       "    }\n",
       "\n",
       "    .dataframe tbody tr th {\n",
       "        vertical-align: top;\n",
       "    }\n",
       "\n",
       "    .dataframe thead th {\n",
       "        text-align: right;\n",
       "    }\n",
       "</style>\n",
       "<table border=\"1\" class=\"dataframe\">\n",
       "  <thead>\n",
       "    <tr style=\"text-align: right;\">\n",
       "      <th></th>\n",
       "      <th>dateCrawled</th>\n",
       "      <th>name</th>\n",
       "      <th>seller</th>\n",
       "      <th>offerType</th>\n",
       "      <th>price</th>\n",
       "      <th>abtest</th>\n",
       "      <th>vehicleType</th>\n",
       "      <th>yearOfRegistration</th>\n",
       "      <th>gearbox</th>\n",
       "      <th>powerPS</th>\n",
       "      <th>model</th>\n",
       "      <th>odometer</th>\n",
       "      <th>monthOfRegistration</th>\n",
       "      <th>fuelType</th>\n",
       "      <th>brand</th>\n",
       "      <th>notRepairedDamage</th>\n",
       "      <th>dateCreated</th>\n",
       "      <th>nrOfPictures</th>\n",
       "      <th>postalCode</th>\n",
       "      <th>lastSeen</th>\n",
       "    </tr>\n",
       "  </thead>\n",
       "  <tbody>\n",
       "    <tr>\n",
       "      <th>0</th>\n",
       "      <td>2016-03-26 17:47:46</td>\n",
       "      <td>Peugeot_807_160_NAVTECH_ON_BOARD</td>\n",
       "      <td>privat</td>\n",
       "      <td>Angebot</td>\n",
       "      <td>$5,000</td>\n",
       "      <td>control</td>\n",
       "      <td>bus</td>\n",
       "      <td>2004</td>\n",
       "      <td>manuell</td>\n",
       "      <td>158</td>\n",
       "      <td>andere</td>\n",
       "      <td>150,000km</td>\n",
       "      <td>3</td>\n",
       "      <td>lpg</td>\n",
       "      <td>peugeot</td>\n",
       "      <td>nein</td>\n",
       "      <td>2016-03-26 00:00:00</td>\n",
       "      <td>0</td>\n",
       "      <td>79588</td>\n",
       "      <td>2016-04-06 06:45:54</td>\n",
       "    </tr>\n",
       "    <tr>\n",
       "      <th>1</th>\n",
       "      <td>2016-04-04 13:38:56</td>\n",
       "      <td>BMW_740i_4_4_Liter_HAMANN_UMBAU_Mega_Optik</td>\n",
       "      <td>privat</td>\n",
       "      <td>Angebot</td>\n",
       "      <td>$8,500</td>\n",
       "      <td>control</td>\n",
       "      <td>limousine</td>\n",
       "      <td>1997</td>\n",
       "      <td>automatik</td>\n",
       "      <td>286</td>\n",
       "      <td>7er</td>\n",
       "      <td>150,000km</td>\n",
       "      <td>6</td>\n",
       "      <td>benzin</td>\n",
       "      <td>bmw</td>\n",
       "      <td>nein</td>\n",
       "      <td>2016-04-04 00:00:00</td>\n",
       "      <td>0</td>\n",
       "      <td>71034</td>\n",
       "      <td>2016-04-06 14:45:08</td>\n",
       "    </tr>\n",
       "    <tr>\n",
       "      <th>2</th>\n",
       "      <td>2016-03-26 18:57:24</td>\n",
       "      <td>Volkswagen_Golf_1.6_United</td>\n",
       "      <td>privat</td>\n",
       "      <td>Angebot</td>\n",
       "      <td>$8,990</td>\n",
       "      <td>test</td>\n",
       "      <td>limousine</td>\n",
       "      <td>2009</td>\n",
       "      <td>manuell</td>\n",
       "      <td>102</td>\n",
       "      <td>golf</td>\n",
       "      <td>70,000km</td>\n",
       "      <td>7</td>\n",
       "      <td>benzin</td>\n",
       "      <td>volkswagen</td>\n",
       "      <td>nein</td>\n",
       "      <td>2016-03-26 00:00:00</td>\n",
       "      <td>0</td>\n",
       "      <td>35394</td>\n",
       "      <td>2016-04-06 20:15:37</td>\n",
       "    </tr>\n",
       "    <tr>\n",
       "      <th>3</th>\n",
       "      <td>2016-03-12 16:58:10</td>\n",
       "      <td>Smart_smart_fortwo_coupe_softouch/F1/Klima/Pan...</td>\n",
       "      <td>privat</td>\n",
       "      <td>Angebot</td>\n",
       "      <td>$4,350</td>\n",
       "      <td>control</td>\n",
       "      <td>kleinwagen</td>\n",
       "      <td>2007</td>\n",
       "      <td>automatik</td>\n",
       "      <td>71</td>\n",
       "      <td>fortwo</td>\n",
       "      <td>70,000km</td>\n",
       "      <td>6</td>\n",
       "      <td>benzin</td>\n",
       "      <td>smart</td>\n",
       "      <td>nein</td>\n",
       "      <td>2016-03-12 00:00:00</td>\n",
       "      <td>0</td>\n",
       "      <td>33729</td>\n",
       "      <td>2016-03-15 03:16:28</td>\n",
       "    </tr>\n",
       "    <tr>\n",
       "      <th>4</th>\n",
       "      <td>2016-04-01 14:38:50</td>\n",
       "      <td>Ford_Focus_1_6_Benzin_TÜV_neu_ist_sehr_gepfleg...</td>\n",
       "      <td>privat</td>\n",
       "      <td>Angebot</td>\n",
       "      <td>$1,350</td>\n",
       "      <td>test</td>\n",
       "      <td>kombi</td>\n",
       "      <td>2003</td>\n",
       "      <td>manuell</td>\n",
       "      <td>0</td>\n",
       "      <td>focus</td>\n",
       "      <td>150,000km</td>\n",
       "      <td>7</td>\n",
       "      <td>benzin</td>\n",
       "      <td>ford</td>\n",
       "      <td>nein</td>\n",
       "      <td>2016-04-01 00:00:00</td>\n",
       "      <td>0</td>\n",
       "      <td>39218</td>\n",
       "      <td>2016-04-01 14:38:50</td>\n",
       "    </tr>\n",
       "  </tbody>\n",
       "</table>\n",
       "</div>"
      ],
      "text/plain": [
       "           dateCrawled                                               name  \\\n",
       "0  2016-03-26 17:47:46                   Peugeot_807_160_NAVTECH_ON_BOARD   \n",
       "1  2016-04-04 13:38:56         BMW_740i_4_4_Liter_HAMANN_UMBAU_Mega_Optik   \n",
       "2  2016-03-26 18:57:24                         Volkswagen_Golf_1.6_United   \n",
       "3  2016-03-12 16:58:10  Smart_smart_fortwo_coupe_softouch/F1/Klima/Pan...   \n",
       "4  2016-04-01 14:38:50  Ford_Focus_1_6_Benzin_TÜV_neu_ist_sehr_gepfleg...   \n",
       "\n",
       "   seller offerType   price   abtest vehicleType  yearOfRegistration  \\\n",
       "0  privat   Angebot  $5,000  control         bus                2004   \n",
       "1  privat   Angebot  $8,500  control   limousine                1997   \n",
       "2  privat   Angebot  $8,990     test   limousine                2009   \n",
       "3  privat   Angebot  $4,350  control  kleinwagen                2007   \n",
       "4  privat   Angebot  $1,350     test       kombi                2003   \n",
       "\n",
       "     gearbox  powerPS   model   odometer  monthOfRegistration fuelType  \\\n",
       "0    manuell      158  andere  150,000km                    3      lpg   \n",
       "1  automatik      286     7er  150,000km                    6   benzin   \n",
       "2    manuell      102    golf   70,000km                    7   benzin   \n",
       "3  automatik       71  fortwo   70,000km                    6   benzin   \n",
       "4    manuell        0   focus  150,000km                    7   benzin   \n",
       "\n",
       "        brand notRepairedDamage          dateCreated  nrOfPictures  \\\n",
       "0     peugeot              nein  2016-03-26 00:00:00             0   \n",
       "1         bmw              nein  2016-04-04 00:00:00             0   \n",
       "2  volkswagen              nein  2016-03-26 00:00:00             0   \n",
       "3       smart              nein  2016-03-12 00:00:00             0   \n",
       "4        ford              nein  2016-04-01 00:00:00             0   \n",
       "\n",
       "   postalCode             lastSeen  \n",
       "0       79588  2016-04-06 06:45:54  \n",
       "1       71034  2016-04-06 14:45:08  \n",
       "2       35394  2016-04-06 20:15:37  \n",
       "3       33729  2016-03-15 03:16:28  \n",
       "4       39218  2016-04-01 14:38:50  "
      ]
     },
     "execution_count": 35,
     "metadata": {},
     "output_type": "execute_result"
    }
   ],
   "source": [
    "autos.head()"
   ]
  },
  {
   "cell_type": "code",
   "execution_count": 36,
   "id": "cbdb7569-4b39-4e2f-9e7f-c454ac8f5d43",
   "metadata": {},
   "outputs": [
    {
     "name": "stdout",
     "output_type": "stream",
     "text": [
      "<class 'pandas.core.frame.DataFrame'>\n",
      "RangeIndex: 50000 entries, 0 to 49999\n",
      "Data columns (total 20 columns):\n",
      " #   Column               Non-Null Count  Dtype \n",
      "---  ------               --------------  ----- \n",
      " 0   dateCrawled          50000 non-null  object\n",
      " 1   name                 50000 non-null  object\n",
      " 2   seller               50000 non-null  object\n",
      " 3   offerType            50000 non-null  object\n",
      " 4   price                50000 non-null  object\n",
      " 5   abtest               50000 non-null  object\n",
      " 6   vehicleType          44905 non-null  object\n",
      " 7   yearOfRegistration   50000 non-null  int64 \n",
      " 8   gearbox              47320 non-null  object\n",
      " 9   powerPS              50000 non-null  int64 \n",
      " 10  model                47242 non-null  object\n",
      " 11  odometer             50000 non-null  object\n",
      " 12  monthOfRegistration  50000 non-null  int64 \n",
      " 13  fuelType             45518 non-null  object\n",
      " 14  brand                50000 non-null  object\n",
      " 15  notRepairedDamage    40171 non-null  object\n",
      " 16  dateCreated          50000 non-null  object\n",
      " 17  nrOfPictures         50000 non-null  int64 \n",
      " 18  postalCode           50000 non-null  int64 \n",
      " 19  lastSeen             50000 non-null  object\n",
      "dtypes: int64(5), object(15)\n",
      "memory usage: 7.6+ MB\n"
     ]
    }
   ],
   "source": [
    "autos.info()"
   ]
  },
  {
   "cell_type": "code",
   "execution_count": 37,
   "id": "2aafaf13-223d-4ddb-87b4-4200710413de",
   "metadata": {},
   "outputs": [
    {
     "data": {
      "text/plain": [
       "dateCrawled               0\n",
       "name                      0\n",
       "seller                    0\n",
       "offerType                 0\n",
       "price                     0\n",
       "abtest                    0\n",
       "vehicleType            5095\n",
       "yearOfRegistration        0\n",
       "gearbox                2680\n",
       "powerPS                   0\n",
       "model                  2758\n",
       "odometer                  0\n",
       "monthOfRegistration       0\n",
       "fuelType               4482\n",
       "brand                     0\n",
       "notRepairedDamage      9829\n",
       "dateCreated               0\n",
       "nrOfPictures              0\n",
       "postalCode                0\n",
       "lastSeen                  0\n",
       "dtype: int64"
      ]
     },
     "execution_count": 37,
     "metadata": {},
     "output_type": "execute_result"
    }
   ],
   "source": [
    "autos.isnull().sum()"
   ]
  },
  {
   "cell_type": "markdown",
   "id": "4a2c2392-6176-498a-b22d-241d5ed77d5f",
   "metadata": {},
   "source": [
    "The data has been successfully loaded in pandas dataframe. There are 19 columns and 50,000 observations (rows) in the data, however there are some columns with missing or null values such as vehicleType, gearbox, model, fuelType and notRepairDamage."
   ]
  },
  {
   "cell_type": "markdown",
   "id": "bed06cfe-0da5-4b83-90a8-79434ec183e6",
   "metadata": {},
   "source": [
    "## Cleaning Column Names"
   ]
  },
  {
   "cell_type": "code",
   "execution_count": 38,
   "id": "13e5383d-5139-4d89-bd12-76ee2b971669",
   "metadata": {},
   "outputs": [
    {
     "data": {
      "text/plain": [
       "Index(['dateCrawled', 'name', 'seller', 'offerType', 'price', 'abtest',\n",
       "       'vehicleType', 'yearOfRegistration', 'gearbox', 'powerPS', 'model',\n",
       "       'odometer', 'monthOfRegistration', 'fuelType', 'brand',\n",
       "       'notRepairedDamage', 'dateCreated', 'nrOfPictures', 'postalCode',\n",
       "       'lastSeen'],\n",
       "      dtype='object')"
      ]
     },
     "execution_count": 38,
     "metadata": {},
     "output_type": "execute_result"
    }
   ],
   "source": [
    "autos.columns "
   ]
  },
  {
   "cell_type": "code",
   "execution_count": 39,
   "id": "d1557d2f-c848-475a-8872-9f6949668e5e",
   "metadata": {},
   "outputs": [
    {
     "name": "stdout",
     "output_type": "stream",
     "text": [
      "<class 'pandas.core.frame.DataFrame'>\n",
      "RangeIndex: 50000 entries, 0 to 49999\n",
      "Data columns (total 20 columns):\n",
      " #   Column              Non-Null Count  Dtype \n",
      "---  ------              --------------  ----- \n",
      " 0   date_crawled        50000 non-null  object\n",
      " 1   name                50000 non-null  object\n",
      " 2   seller              50000 non-null  object\n",
      " 3   offer_type          50000 non-null  object\n",
      " 4   price               50000 non-null  object\n",
      " 5   abtest              50000 non-null  object\n",
      " 6   vehicle_type        44905 non-null  object\n",
      " 7   registration_year   50000 non-null  int64 \n",
      " 8   gearbox             47320 non-null  object\n",
      " 9   power_ps            50000 non-null  int64 \n",
      " 10  model               47242 non-null  object\n",
      " 11  odometer            50000 non-null  object\n",
      " 12  registration_month  50000 non-null  int64 \n",
      " 13  fuel_type           45518 non-null  object\n",
      " 14  brand               50000 non-null  object\n",
      " 15  unrepaired_damage   40171 non-null  object\n",
      " 16  ad_created          50000 non-null  object\n",
      " 17  nr_of_pictures      50000 non-null  int64 \n",
      " 18  posta_code          50000 non-null  int64 \n",
      " 19  last_seen           50000 non-null  object\n",
      "dtypes: int64(5), object(15)\n",
      "memory usage: 7.6+ MB\n"
     ]
    }
   ],
   "source": [
    "cleaned_names = ['date_crawled', 'name', 'seller', 'offer_type', 'price', 'abtest',\n",
    "       'vehicle_type', 'registration_year', 'gearbox', 'power_ps', 'model',\n",
    "       'odometer', 'registration_month', 'fuel_type', 'brand',\n",
    "       'unrepaired_damage', 'ad_created', 'nr_of_pictures', 'posta_code',\n",
    "       'last_seen']\n",
    "autos.columns = cleaned_names \n",
    "autos.info()"
   ]
  },
  {
   "cell_type": "markdown",
   "id": "93e4a56f-4d0e-44b5-ba38-277e2c51a7fc",
   "metadata": {},
   "source": [
    "**The changes are made to the column names to change the variable names to snake_case and shorten some of the variables.**"
   ]
  },
  {
   "cell_type": "markdown",
   "id": "b5fd46e6-046d-4578-9ef6-72b326945ce2",
   "metadata": {},
   "source": [
    "## Initial exploration and cleaning"
   ]
  },
  {
   "cell_type": "code",
   "execution_count": 40,
   "id": "b3bfbcb1-85ed-4c29-967b-7b9857ff84cf",
   "metadata": {},
   "outputs": [
    {
     "data": {
      "text/html": [
       "<div>\n",
       "<style scoped>\n",
       "    .dataframe tbody tr th:only-of-type {\n",
       "        vertical-align: middle;\n",
       "    }\n",
       "\n",
       "    .dataframe tbody tr th {\n",
       "        vertical-align: top;\n",
       "    }\n",
       "\n",
       "    .dataframe thead th {\n",
       "        text-align: right;\n",
       "    }\n",
       "</style>\n",
       "<table border=\"1\" class=\"dataframe\">\n",
       "  <thead>\n",
       "    <tr style=\"text-align: right;\">\n",
       "      <th></th>\n",
       "      <th>date_crawled</th>\n",
       "      <th>name</th>\n",
       "      <th>seller</th>\n",
       "      <th>offer_type</th>\n",
       "      <th>price</th>\n",
       "      <th>abtest</th>\n",
       "      <th>vehicle_type</th>\n",
       "      <th>gearbox</th>\n",
       "      <th>model</th>\n",
       "      <th>odometer</th>\n",
       "      <th>fuel_type</th>\n",
       "      <th>brand</th>\n",
       "      <th>unrepaired_damage</th>\n",
       "      <th>ad_created</th>\n",
       "      <th>last_seen</th>\n",
       "    </tr>\n",
       "  </thead>\n",
       "  <tbody>\n",
       "    <tr>\n",
       "      <th>count</th>\n",
       "      <td>50000</td>\n",
       "      <td>50000</td>\n",
       "      <td>50000</td>\n",
       "      <td>50000</td>\n",
       "      <td>50000</td>\n",
       "      <td>50000</td>\n",
       "      <td>44905</td>\n",
       "      <td>47320</td>\n",
       "      <td>47242</td>\n",
       "      <td>50000</td>\n",
       "      <td>45518</td>\n",
       "      <td>50000</td>\n",
       "      <td>40171</td>\n",
       "      <td>50000</td>\n",
       "      <td>50000</td>\n",
       "    </tr>\n",
       "    <tr>\n",
       "      <th>unique</th>\n",
       "      <td>48213</td>\n",
       "      <td>38754</td>\n",
       "      <td>2</td>\n",
       "      <td>2</td>\n",
       "      <td>2357</td>\n",
       "      <td>2</td>\n",
       "      <td>8</td>\n",
       "      <td>2</td>\n",
       "      <td>245</td>\n",
       "      <td>13</td>\n",
       "      <td>7</td>\n",
       "      <td>40</td>\n",
       "      <td>2</td>\n",
       "      <td>76</td>\n",
       "      <td>39481</td>\n",
       "    </tr>\n",
       "    <tr>\n",
       "      <th>top</th>\n",
       "      <td>2016-04-02 11:37:04</td>\n",
       "      <td>Ford_Fiesta</td>\n",
       "      <td>privat</td>\n",
       "      <td>Angebot</td>\n",
       "      <td>$0</td>\n",
       "      <td>test</td>\n",
       "      <td>limousine</td>\n",
       "      <td>manuell</td>\n",
       "      <td>golf</td>\n",
       "      <td>150,000km</td>\n",
       "      <td>benzin</td>\n",
       "      <td>volkswagen</td>\n",
       "      <td>nein</td>\n",
       "      <td>2016-04-03 00:00:00</td>\n",
       "      <td>2016-04-07 06:17:27</td>\n",
       "    </tr>\n",
       "    <tr>\n",
       "      <th>freq</th>\n",
       "      <td>3</td>\n",
       "      <td>78</td>\n",
       "      <td>49999</td>\n",
       "      <td>49999</td>\n",
       "      <td>1421</td>\n",
       "      <td>25756</td>\n",
       "      <td>12859</td>\n",
       "      <td>36993</td>\n",
       "      <td>4024</td>\n",
       "      <td>32424</td>\n",
       "      <td>30107</td>\n",
       "      <td>10687</td>\n",
       "      <td>35232</td>\n",
       "      <td>1946</td>\n",
       "      <td>8</td>\n",
       "    </tr>\n",
       "  </tbody>\n",
       "</table>\n",
       "</div>"
      ],
      "text/plain": [
       "               date_crawled         name  seller offer_type  price abtest  \\\n",
       "count                 50000        50000   50000      50000  50000  50000   \n",
       "unique                48213        38754       2          2   2357      2   \n",
       "top     2016-04-02 11:37:04  Ford_Fiesta  privat    Angebot     $0   test   \n",
       "freq                      3           78   49999      49999   1421  25756   \n",
       "\n",
       "       vehicle_type  gearbox  model   odometer fuel_type       brand  \\\n",
       "count         44905    47320  47242      50000     45518       50000   \n",
       "unique            8        2    245         13         7          40   \n",
       "top       limousine  manuell   golf  150,000km    benzin  volkswagen   \n",
       "freq          12859    36993   4024      32424     30107       10687   \n",
       "\n",
       "       unrepaired_damage           ad_created            last_seen  \n",
       "count              40171                50000                50000  \n",
       "unique                 2                   76                39481  \n",
       "top                 nein  2016-04-03 00:00:00  2016-04-07 06:17:27  \n",
       "freq               35232                 1946                    8  "
      ]
     },
     "execution_count": 40,
     "metadata": {},
     "output_type": "execute_result"
    }
   ],
   "source": [
    "autos.describe(include='O')"
   ]
  },
  {
   "cell_type": "markdown",
   "id": "c8c602c7-7f5b-408d-b90b-9a00f896cdd8",
   "metadata": {},
   "source": [
    "**Observations:**\n",
    "* Columns to be dropped are: \n",
    "    * seller column consists mostly of privat \n",
    "    * offer_type --> Almost all the values are Angebot\n",
    "    * nr_of_pictures --> All are 0 \n",
    "* More investigation needed for: \n",
    "    * abtest --> need to check as more than 50% of the values are test\n",
    "    * registration_month --> has nein which is weird\n",
    "    * price --> many cars have 0 price which is strange\n",
    "* Conversion of columns: \n",
    "    * To date: date_crawled, ad_created, last_seen, registration_year\n",
    "    * To numeric: price, odometer (clean), \n",
    "    * To categorical / text: registration_month, postal code"
   ]
  },
  {
   "cell_type": "markdown",
   "id": "8e13970d-3f07-4e92-813c-af2e734c4174",
   "metadata": {},
   "source": [
    "### More exploration needed"
   ]
  },
  {
   "cell_type": "code",
   "execution_count": 41,
   "id": "b7dab764-beb0-4b36-ac73-cd5d20ffbcb4",
   "metadata": {},
   "outputs": [
    {
     "data": {
      "text/plain": [
       "date_crawled             0\n",
       "name                     0\n",
       "seller                   0\n",
       "offer_type               0\n",
       "price                    0\n",
       "abtest                   0\n",
       "vehicle_type          5095\n",
       "registration_year        0\n",
       "gearbox               2680\n",
       "power_ps                 0\n",
       "model                 2758\n",
       "odometer                 0\n",
       "registration_month       0\n",
       "fuel_type             4482\n",
       "brand                    0\n",
       "unrepaired_damage     9829\n",
       "ad_created               0\n",
       "nr_of_pictures           0\n",
       "posta_code               0\n",
       "last_seen                0\n",
       "dtype: int64"
      ]
     },
     "execution_count": 41,
     "metadata": {},
     "output_type": "execute_result"
    }
   ],
   "source": [
    "# How many null values\n",
    "autos.isnull().sum()"
   ]
  },
  {
   "cell_type": "code",
   "execution_count": 42,
   "id": "05c1b148-adb2-44e8-a9cb-50cd5d424414",
   "metadata": {},
   "outputs": [
    {
     "data": {
      "text/plain": [
       "Fiat_Punto_1.2_zu_verkaufen                                      1\n",
       "Volkswagen_Passat_Variant_1.9_TDI_Ahk_tuev_12/2017_klima         1\n",
       "Verkaufe_Mazda_CX5                                               1\n",
       "E320_guter_Zustand                                               1\n",
       "Volkswagen_Polo_Highline_TÜV_03.2017                             1\n",
       "Benz_Mecerdes_Viano_Bus__116_PS__8_Sitz.                         1\n",
       "Opel_Corsa_B_TÜV_08/2016                                         1\n",
       "Mercedes_C180_Sport                                              1\n",
       "Mitsubischi_Space_Runner_2_Jahre_TÜV/Au_neu                      1\n",
       "Lada_Niva_1.7i_Only                                              1\n",
       "Fiat_Punto_1.2_SX_Mit_LPG_Gasanlage                              1\n",
       "Mercedes_Benz_A_210                                              1\n",
       "BMW_330d_Touring_Sport_Aut._Modern_Line_Garantie                 1\n",
       "Fiat_Punto_55_Team                                               1\n",
       "BMW_320_Ci__G_Power__M_Paket__Bi_Xenon__Automatik__e46_Cabrio    1\n",
       "peugeot_206_bj_2000rot_4tuerig_ohne_tuev_bastlerfahrzeug         1\n",
       "Volvo_Volvo_S60_2.4                                              1\n",
       "Sparsamer_Mitsubishi_Cold                                        1\n",
       "SEAT_ALTEA_2.0_TDI__AUTOMATIK                                    1\n",
       "Fiat_500_C_1.2_Dualogic_Lounge                                   1\n",
       "Name: name, dtype: int64"
      ]
     },
     "execution_count": 42,
     "metadata": {},
     "output_type": "execute_result"
    }
   ],
   "source": [
    "# Why so many different names\n",
    "autos['name'].value_counts().tail(20) # Can't help - need to keep them as is"
   ]
  },
  {
   "cell_type": "code",
   "execution_count": 43,
   "id": "a0e43de9-8ea0-4474-aecf-d30ca25ec971",
   "metadata": {},
   "outputs": [
    {
     "data": {
      "text/plain": [
       "volkswagen        10687\n",
       "opel               5461\n",
       "bmw                5429\n",
       "mercedes_benz      4734\n",
       "audi               4283\n",
       "ford               3479\n",
       "renault            2404\n",
       "peugeot            1456\n",
       "fiat               1308\n",
       "seat                941\n",
       "skoda               786\n",
       "mazda               757\n",
       "nissan              754\n",
       "smart               701\n",
       "citroen             701\n",
       "toyota              617\n",
       "sonstige_autos      546\n",
       "hyundai             488\n",
       "volvo               457\n",
       "mini                424\n",
       "mitsubishi          406\n",
       "honda               399\n",
       "kia                 356\n",
       "alfa_romeo          329\n",
       "porsche             294\n",
       "suzuki              293\n",
       "chevrolet           283\n",
       "chrysler            181\n",
       "dacia               129\n",
       "daihatsu            128\n",
       "jeep                110\n",
       "subaru              109\n",
       "land_rover           99\n",
       "saab                 80\n",
       "daewoo               79\n",
       "trabant              78\n",
       "jaguar               77\n",
       "rover                69\n",
       "lancia               57\n",
       "lada                 31\n",
       "Name: brand, dtype: int64"
      ]
     },
     "execution_count": 43,
     "metadata": {},
     "output_type": "execute_result"
    }
   ],
   "source": [
    "# Let's explore brands\n",
    "autos['brand'].value_counts()  ## They are entirely unique - no issues found"
   ]
  },
  {
   "cell_type": "code",
   "execution_count": 47,
   "id": "f1950b7a-27f6-4f4c-845d-0bd9b58323a4",
   "metadata": {},
   "outputs": [
    {
     "data": {
      "text/plain": [
       "nein    35232\n",
       "ja       4939\n",
       "Name: unrepaired_damage, dtype: int64"
      ]
     },
     "execution_count": 47,
     "metadata": {},
     "output_type": "execute_result"
    }
   ],
   "source": [
    "# Registration month\n",
    "autos['unrepaired_damage'].value_counts()"
   ]
  },
  {
   "cell_type": "code",
   "execution_count": 57,
   "id": "b9905b70-f02a-47bb-bc84-809e24bbb9af",
   "metadata": {},
   "outputs": [
    {
     "data": {
      "text/html": [
       "<div>\n",
       "<style scoped>\n",
       "    .dataframe tbody tr th:only-of-type {\n",
       "        vertical-align: middle;\n",
       "    }\n",
       "\n",
       "    .dataframe tbody tr th {\n",
       "        vertical-align: top;\n",
       "    }\n",
       "\n",
       "    .dataframe thead th {\n",
       "        text-align: right;\n",
       "    }\n",
       "</style>\n",
       "<table border=\"1\" class=\"dataframe\">\n",
       "  <thead>\n",
       "    <tr style=\"text-align: right;\">\n",
       "      <th></th>\n",
       "      <th>date_crawled</th>\n",
       "      <th>name</th>\n",
       "      <th>seller</th>\n",
       "      <th>offer_type</th>\n",
       "      <th>price</th>\n",
       "      <th>abtest</th>\n",
       "      <th>vehicle_type</th>\n",
       "      <th>registration_year</th>\n",
       "      <th>gearbox</th>\n",
       "      <th>power_ps</th>\n",
       "      <th>model</th>\n",
       "      <th>odometer</th>\n",
       "      <th>registration_month</th>\n",
       "      <th>fuel_type</th>\n",
       "      <th>brand</th>\n",
       "      <th>unrepaired_damage</th>\n",
       "      <th>ad_created</th>\n",
       "      <th>nr_of_pictures</th>\n",
       "      <th>posta_code</th>\n",
       "      <th>last_seen</th>\n",
       "    </tr>\n",
       "  </thead>\n",
       "  <tbody>\n",
       "    <tr>\n",
       "      <th>27</th>\n",
       "      <td>2016-03-27 18:45:01</td>\n",
       "      <td>Hat_einer_Ahnung_mit_Ford_Galaxy_HILFE</td>\n",
       "      <td>privat</td>\n",
       "      <td>Angebot</td>\n",
       "      <td>$0</td>\n",
       "      <td>control</td>\n",
       "      <td>NaN</td>\n",
       "      <td>2005</td>\n",
       "      <td>NaN</td>\n",
       "      <td>0</td>\n",
       "      <td>NaN</td>\n",
       "      <td>150,000km</td>\n",
       "      <td>0</td>\n",
       "      <td>NaN</td>\n",
       "      <td>ford</td>\n",
       "      <td>NaN</td>\n",
       "      <td>2016-03-27 00:00:00</td>\n",
       "      <td>0</td>\n",
       "      <td>66701</td>\n",
       "      <td>2016-03-27 18:45:01</td>\n",
       "    </tr>\n",
       "    <tr>\n",
       "      <th>71</th>\n",
       "      <td>2016-03-28 19:39:35</td>\n",
       "      <td>Suche_Opel_Astra_F__Corsa_oder_Kadett_E_mit_Re...</td>\n",
       "      <td>privat</td>\n",
       "      <td>Angebot</td>\n",
       "      <td>$0</td>\n",
       "      <td>control</td>\n",
       "      <td>NaN</td>\n",
       "      <td>1990</td>\n",
       "      <td>manuell</td>\n",
       "      <td>0</td>\n",
       "      <td>NaN</td>\n",
       "      <td>5,000km</td>\n",
       "      <td>0</td>\n",
       "      <td>benzin</td>\n",
       "      <td>opel</td>\n",
       "      <td>NaN</td>\n",
       "      <td>2016-03-28 00:00:00</td>\n",
       "      <td>0</td>\n",
       "      <td>4552</td>\n",
       "      <td>2016-04-07 01:45:48</td>\n",
       "    </tr>\n",
       "    <tr>\n",
       "      <th>80</th>\n",
       "      <td>2016-03-09 15:57:57</td>\n",
       "      <td>Nissan_Primera_Hatchback_1_6_16v_73_Kw___99Ps_...</td>\n",
       "      <td>privat</td>\n",
       "      <td>Angebot</td>\n",
       "      <td>$0</td>\n",
       "      <td>control</td>\n",
       "      <td>coupe</td>\n",
       "      <td>1999</td>\n",
       "      <td>manuell</td>\n",
       "      <td>99</td>\n",
       "      <td>primera</td>\n",
       "      <td>150,000km</td>\n",
       "      <td>3</td>\n",
       "      <td>benzin</td>\n",
       "      <td>nissan</td>\n",
       "      <td>ja</td>\n",
       "      <td>2016-03-09 00:00:00</td>\n",
       "      <td>0</td>\n",
       "      <td>66903</td>\n",
       "      <td>2016-03-09 16:43:50</td>\n",
       "    </tr>\n",
       "    <tr>\n",
       "      <th>87</th>\n",
       "      <td>2016-03-29 23:37:22</td>\n",
       "      <td>Bmw_520_e39_zum_ausschlachten</td>\n",
       "      <td>privat</td>\n",
       "      <td>Angebot</td>\n",
       "      <td>$0</td>\n",
       "      <td>control</td>\n",
       "      <td>NaN</td>\n",
       "      <td>2000</td>\n",
       "      <td>NaN</td>\n",
       "      <td>0</td>\n",
       "      <td>5er</td>\n",
       "      <td>150,000km</td>\n",
       "      <td>0</td>\n",
       "      <td>NaN</td>\n",
       "      <td>bmw</td>\n",
       "      <td>NaN</td>\n",
       "      <td>2016-03-29 00:00:00</td>\n",
       "      <td>0</td>\n",
       "      <td>82256</td>\n",
       "      <td>2016-04-06 21:18:15</td>\n",
       "    </tr>\n",
       "    <tr>\n",
       "      <th>99</th>\n",
       "      <td>2016-04-05 09:48:54</td>\n",
       "      <td>Peugeot_207_CC___Cabrio_Bj_2011</td>\n",
       "      <td>privat</td>\n",
       "      <td>Angebot</td>\n",
       "      <td>$0</td>\n",
       "      <td>control</td>\n",
       "      <td>cabrio</td>\n",
       "      <td>2011</td>\n",
       "      <td>manuell</td>\n",
       "      <td>0</td>\n",
       "      <td>2_reihe</td>\n",
       "      <td>60,000km</td>\n",
       "      <td>7</td>\n",
       "      <td>diesel</td>\n",
       "      <td>peugeot</td>\n",
       "      <td>nein</td>\n",
       "      <td>2016-04-05 00:00:00</td>\n",
       "      <td>0</td>\n",
       "      <td>99735</td>\n",
       "      <td>2016-04-07 12:17:34</td>\n",
       "    </tr>\n",
       "  </tbody>\n",
       "</table>\n",
       "</div>"
      ],
      "text/plain": [
       "           date_crawled                                               name  \\\n",
       "27  2016-03-27 18:45:01             Hat_einer_Ahnung_mit_Ford_Galaxy_HILFE   \n",
       "71  2016-03-28 19:39:35  Suche_Opel_Astra_F__Corsa_oder_Kadett_E_mit_Re...   \n",
       "80  2016-03-09 15:57:57  Nissan_Primera_Hatchback_1_6_16v_73_Kw___99Ps_...   \n",
       "87  2016-03-29 23:37:22                      Bmw_520_e39_zum_ausschlachten   \n",
       "99  2016-04-05 09:48:54                    Peugeot_207_CC___Cabrio_Bj_2011   \n",
       "\n",
       "    seller offer_type price   abtest vehicle_type  registration_year  gearbox  \\\n",
       "27  privat    Angebot    $0  control          NaN               2005      NaN   \n",
       "71  privat    Angebot    $0  control          NaN               1990  manuell   \n",
       "80  privat    Angebot    $0  control        coupe               1999  manuell   \n",
       "87  privat    Angebot    $0  control          NaN               2000      NaN   \n",
       "99  privat    Angebot    $0  control       cabrio               2011  manuell   \n",
       "\n",
       "    power_ps    model   odometer  registration_month fuel_type    brand  \\\n",
       "27         0      NaN  150,000km                   0       NaN     ford   \n",
       "71         0      NaN    5,000km                   0    benzin     opel   \n",
       "80        99  primera  150,000km                   3    benzin   nissan   \n",
       "87         0      5er  150,000km                   0       NaN      bmw   \n",
       "99         0  2_reihe   60,000km                   7    diesel  peugeot   \n",
       "\n",
       "   unrepaired_damage           ad_created  nr_of_pictures  posta_code  \\\n",
       "27               NaN  2016-03-27 00:00:00               0       66701   \n",
       "71               NaN  2016-03-28 00:00:00               0        4552   \n",
       "80                ja  2016-03-09 00:00:00               0       66903   \n",
       "87               NaN  2016-03-29 00:00:00               0       82256   \n",
       "99              nein  2016-04-05 00:00:00               0       99735   \n",
       "\n",
       "              last_seen  \n",
       "27  2016-03-27 18:45:01  \n",
       "71  2016-04-07 01:45:48  \n",
       "80  2016-03-09 16:43:50  \n",
       "87  2016-04-06 21:18:15  \n",
       "99  2016-04-07 12:17:34  "
      ]
     },
     "execution_count": 57,
     "metadata": {},
     "output_type": "execute_result"
    }
   ],
   "source": [
    "autos.loc[autos['price'].str.strip()=='$0',:].head()"
   ]
  },
  {
   "cell_type": "markdown",
   "id": "61ddcff0-2520-4d6f-9f28-d1876a1e777a",
   "metadata": {},
   "source": [
    "## Basic Cleaning \n",
    "Price and odometer shall be changed to numeric after removing any special characters"
   ]
  },
  {
   "cell_type": "code",
   "execution_count": 58,
   "id": "6bd80c45-33ea-48d2-8374-f9ea93056d1e",
   "metadata": {},
   "outputs": [
    {
     "data": {
      "text/html": [
       "<div>\n",
       "<style scoped>\n",
       "    .dataframe tbody tr th:only-of-type {\n",
       "        vertical-align: middle;\n",
       "    }\n",
       "\n",
       "    .dataframe tbody tr th {\n",
       "        vertical-align: top;\n",
       "    }\n",
       "\n",
       "    .dataframe thead th {\n",
       "        text-align: right;\n",
       "    }\n",
       "</style>\n",
       "<table border=\"1\" class=\"dataframe\">\n",
       "  <thead>\n",
       "    <tr style=\"text-align: right;\">\n",
       "      <th></th>\n",
       "      <th>price</th>\n",
       "      <th>odometer</th>\n",
       "    </tr>\n",
       "  </thead>\n",
       "  <tbody>\n",
       "    <tr>\n",
       "      <th>0</th>\n",
       "      <td>$5,000</td>\n",
       "      <td>150,000km</td>\n",
       "    </tr>\n",
       "    <tr>\n",
       "      <th>1</th>\n",
       "      <td>$8,500</td>\n",
       "      <td>150,000km</td>\n",
       "    </tr>\n",
       "    <tr>\n",
       "      <th>2</th>\n",
       "      <td>$8,990</td>\n",
       "      <td>70,000km</td>\n",
       "    </tr>\n",
       "    <tr>\n",
       "      <th>3</th>\n",
       "      <td>$4,350</td>\n",
       "      <td>70,000km</td>\n",
       "    </tr>\n",
       "    <tr>\n",
       "      <th>4</th>\n",
       "      <td>$1,350</td>\n",
       "      <td>150,000km</td>\n",
       "    </tr>\n",
       "  </tbody>\n",
       "</table>\n",
       "</div>"
      ],
      "text/plain": [
       "    price   odometer\n",
       "0  $5,000  150,000km\n",
       "1  $8,500  150,000km\n",
       "2  $8,990   70,000km\n",
       "3  $4,350   70,000km\n",
       "4  $1,350  150,000km"
      ]
     },
     "execution_count": 58,
     "metadata": {},
     "output_type": "execute_result"
    }
   ],
   "source": [
    "autos[['price','odometer']].head()"
   ]
  },
  {
   "cell_type": "code",
   "execution_count": 75,
   "id": "0f0fac88-8a18-4055-9167-cef19abbe5d0",
   "metadata": {},
   "outputs": [],
   "source": [
    "# Lets remove special characters and change the data type at the same time\n",
    "\n",
    "autos['price'] = autos['price'].str.replace('$', '', regex=False).str.replace(',','',regex=False).astype(float)\n",
    "autos['odometer'] = autos['odometer'].str.replace('km', '').str.replace(',','').astype(float)\n"
   ]
  },
  {
   "cell_type": "code",
   "execution_count": 78,
   "id": "442851bd-1ed2-475c-8530-104f7d889eb5",
   "metadata": {},
   "outputs": [
    {
     "name": "stdout",
     "output_type": "stream",
     "text": [
      "<class 'pandas.core.frame.DataFrame'>\n",
      "RangeIndex: 50000 entries, 0 to 49999\n",
      "Data columns (total 2 columns):\n",
      " #   Column    Non-Null Count  Dtype  \n",
      "---  ------    --------------  -----  \n",
      " 0   price     50000 non-null  float64\n",
      " 1   odometer  50000 non-null  float64\n",
      "dtypes: float64(2)\n",
      "memory usage: 781.4 KB\n"
     ]
    }
   ],
   "source": [
    "autos[['price', 'odometer']].info()"
   ]
  },
  {
   "cell_type": "code",
   "execution_count": 79,
   "id": "674efbc0-6090-45ca-bcda-65f7836a6c92",
   "metadata": {},
   "outputs": [],
   "source": [
    "# Rename the columns\n",
    "autos.rename(columns={'odometer':'odometer_km'}, inplace=True)"
   ]
  },
  {
   "cell_type": "code",
   "execution_count": 80,
   "id": "3eddd8a8-19d1-4985-a1d3-e4fe0939b74e",
   "metadata": {},
   "outputs": [
    {
     "name": "stdout",
     "output_type": "stream",
     "text": [
      "<class 'pandas.core.frame.DataFrame'>\n",
      "RangeIndex: 50000 entries, 0 to 49999\n",
      "Data columns (total 20 columns):\n",
      " #   Column              Non-Null Count  Dtype  \n",
      "---  ------              --------------  -----  \n",
      " 0   date_crawled        50000 non-null  object \n",
      " 1   name                50000 non-null  object \n",
      " 2   seller              50000 non-null  object \n",
      " 3   offer_type          50000 non-null  object \n",
      " 4   price               50000 non-null  float64\n",
      " 5   abtest              50000 non-null  object \n",
      " 6   vehicle_type        44905 non-null  object \n",
      " 7   registration_year   50000 non-null  int64  \n",
      " 8   gearbox             47320 non-null  object \n",
      " 9   power_ps            50000 non-null  int64  \n",
      " 10  model               47242 non-null  object \n",
      " 11  odometer_km         50000 non-null  float64\n",
      " 12  registration_month  50000 non-null  int64  \n",
      " 13  fuel_type           45518 non-null  object \n",
      " 14  brand               50000 non-null  object \n",
      " 15  unrepaired_damage   40171 non-null  object \n",
      " 16  ad_created          50000 non-null  object \n",
      " 17  nr_of_pictures      50000 non-null  int64  \n",
      " 18  posta_code          50000 non-null  int64  \n",
      " 19  last_seen           50000 non-null  object \n",
      "dtypes: float64(2), int64(5), object(13)\n",
      "memory usage: 7.6+ MB\n"
     ]
    }
   ],
   "source": [
    "autos.info()"
   ]
  },
  {
   "cell_type": "markdown",
   "id": "7ee2ed47-292f-4e79-b03b-e0477023ee39",
   "metadata": {},
   "source": [
    "## Exploring the Odometer and Price Columns"
   ]
  },
  {
   "cell_type": "markdown",
   "id": "119d715d-083e-442f-8e6a-519850af5c79",
   "metadata": {},
   "source": [
    "From the last screen, we learned that there are a number of text columns where almost all of the values are the same (seller and offer_type). We also converted the price and odometer columns to numeric types and renamed odometer to odometer_km.\n",
    "\n",
    "Let's continue exploring the data, specifically looking for data that doesn't look right. We'll start by analyzing the odometer_km and price columns. Here's the steps we'll take:\n",
    "\n",
    "- Analyze the columns using minimum and maximum values and look for any values that look unrealistically high or low (outliers) that we might want to remove.\n",
    "- We will use\n",
    "    - Series.unique().shape to see how many unique values\n",
    "    - Series.describe() to view min/max/median/mean etc\n",
    "    - Series.value_counts(), with some variations:\n",
    "        - chained to .head() if there are lots of values.\n",
    "        - Because Series.value_counts() returns a series, we can use Series.sort_index() with ascending= True or False to view the highest and lowest values with their counts (can also chain to head() here).\n",
    "    - When removing outliers, we can do df[(df[\"col\"] >= x ) & (df[\"col\"] <= y )], but it's more readable to use df[df[\"col\"].between(x,y)]"
   ]
  },
  {
   "cell_type": "markdown",
   "id": "d71e675d-c732-4f2a-872e-0a5da3b36507",
   "metadata": {},
   "source": [
    "**For each of the odometer_km and price columns:**\n",
    "- Use the techniques above to explore the data\n",
    "- If you find there are outliers, remove them and write a markdown paragraph explaining your decision.\n",
    "- After you have removed the outliers, make some observations about the remaining values."
   ]
  },
  {
   "cell_type": "code",
   "execution_count": 97,
   "id": "6ac0143e-6333-4254-a040-0b21f6aaff10",
   "metadata": {},
   "outputs": [
    {
     "data": {
      "text/html": [
       "<div>\n",
       "<style scoped>\n",
       "    .dataframe tbody tr th:only-of-type {\n",
       "        vertical-align: middle;\n",
       "    }\n",
       "\n",
       "    .dataframe tbody tr th {\n",
       "        vertical-align: top;\n",
       "    }\n",
       "\n",
       "    .dataframe thead th {\n",
       "        text-align: right;\n",
       "    }\n",
       "</style>\n",
       "<table border=\"1\" class=\"dataframe\">\n",
       "  <thead>\n",
       "    <tr style=\"text-align: right;\">\n",
       "      <th></th>\n",
       "      <th>price</th>\n",
       "      <th>odometer_km</th>\n",
       "    </tr>\n",
       "  </thead>\n",
       "  <tbody>\n",
       "    <tr>\n",
       "      <th>count</th>\n",
       "      <td>50000.00</td>\n",
       "      <td>50000.00</td>\n",
       "    </tr>\n",
       "    <tr>\n",
       "      <th>mean</th>\n",
       "      <td>9840.04</td>\n",
       "      <td>125732.70</td>\n",
       "    </tr>\n",
       "    <tr>\n",
       "      <th>std</th>\n",
       "      <td>481104.38</td>\n",
       "      <td>40042.21</td>\n",
       "    </tr>\n",
       "    <tr>\n",
       "      <th>min</th>\n",
       "      <td>0.00</td>\n",
       "      <td>5000.00</td>\n",
       "    </tr>\n",
       "    <tr>\n",
       "      <th>25%</th>\n",
       "      <td>1100.00</td>\n",
       "      <td>125000.00</td>\n",
       "    </tr>\n",
       "    <tr>\n",
       "      <th>50%</th>\n",
       "      <td>2950.00</td>\n",
       "      <td>150000.00</td>\n",
       "    </tr>\n",
       "    <tr>\n",
       "      <th>75%</th>\n",
       "      <td>7200.00</td>\n",
       "      <td>150000.00</td>\n",
       "    </tr>\n",
       "    <tr>\n",
       "      <th>max</th>\n",
       "      <td>99999999.00</td>\n",
       "      <td>150000.00</td>\n",
       "    </tr>\n",
       "  </tbody>\n",
       "</table>\n",
       "</div>"
      ],
      "text/plain": [
       "            price  odometer_km\n",
       "count    50000.00     50000.00\n",
       "mean      9840.04    125732.70\n",
       "std     481104.38     40042.21\n",
       "min          0.00      5000.00\n",
       "25%       1100.00    125000.00\n",
       "50%       2950.00    150000.00\n",
       "75%       7200.00    150000.00\n",
       "max   99999999.00    150000.00"
      ]
     },
     "execution_count": 97,
     "metadata": {},
     "output_type": "execute_result"
    }
   ],
   "source": [
    "\n",
    "pd.set_option('display.float_format', '{:.2f}'.format)\n",
    "autos[['price', 'odometer_km']].describe()"
   ]
  },
  {
   "cell_type": "code",
   "execution_count": 84,
   "id": "20affd2f-82ee-44ff-baee-5f89f60dddf7",
   "metadata": {},
   "outputs": [
    {
     "data": {
      "text/plain": [
       "(50000,)"
      ]
     },
     "execution_count": 84,
     "metadata": {},
     "output_type": "execute_result"
    }
   ],
   "source": [
    "autos['odometer_km'].shape"
   ]
  },
  {
   "cell_type": "code",
   "execution_count": 108,
   "id": "26735f68-c424-45bf-aed3-b34b2bfd7af5",
   "metadata": {},
   "outputs": [
    {
     "data": {
      "text/plain": [
       "0.00      1421\n",
       "1.00       156\n",
       "2.00         3\n",
       "3.00         1\n",
       "5.00         2\n",
       "8.00         1\n",
       "9.00         1\n",
       "10.00        7\n",
       "11.00        2\n",
       "12.00        3\n",
       "13.00        2\n",
       "14.00        1\n",
       "15.00        2\n",
       "17.00        3\n",
       "18.00        1\n",
       "20.00        4\n",
       "25.00        5\n",
       "29.00        1\n",
       "30.00        7\n",
       "35.00        1\n",
       "40.00        6\n",
       "45.00        4\n",
       "47.00        1\n",
       "49.00        4\n",
       "50.00       49\n",
       "55.00        2\n",
       "59.00        1\n",
       "60.00        9\n",
       "65.00        5\n",
       "66.00        1\n",
       "70.00       10\n",
       "75.00        5\n",
       "79.00        1\n",
       "80.00       15\n",
       "89.00        1\n",
       "90.00        5\n",
       "99.00       19\n",
       "100.00     134\n",
       "110.00       3\n",
       "111.00       2\n",
       "115.00       2\n",
       "117.00       1\n",
       "120.00      39\n",
       "122.00       1\n",
       "125.00       8\n",
       "129.00       1\n",
       "130.00      15\n",
       "135.00       1\n",
       "139.00       1\n",
       "140.00       9\n",
       "Name: price, dtype: int64"
      ]
     },
     "execution_count": 108,
     "metadata": {},
     "output_type": "execute_result"
    }
   ],
   "source": [
    "# Price has zeros as well as very high numbers. Lets check \n",
    "autos['price'].value_counts(dropna=False).sort_index(ascending=True).head(50)"
   ]
  },
  {
   "cell_type": "code",
   "execution_count": 112,
   "id": "31ee1d85-2aae-4b86-b988-7a372a5c4c11",
   "metadata": {},
   "outputs": [
    {
     "data": {
      "text/html": [
       "<div>\n",
       "<style scoped>\n",
       "    .dataframe tbody tr th:only-of-type {\n",
       "        vertical-align: middle;\n",
       "    }\n",
       "\n",
       "    .dataframe tbody tr th {\n",
       "        vertical-align: top;\n",
       "    }\n",
       "\n",
       "    .dataframe thead th {\n",
       "        text-align: right;\n",
       "    }\n",
       "</style>\n",
       "<table border=\"1\" class=\"dataframe\">\n",
       "  <thead>\n",
       "    <tr style=\"text-align: right;\">\n",
       "      <th></th>\n",
       "      <th>price</th>\n",
       "      <th>odometer_km</th>\n",
       "    </tr>\n",
       "  </thead>\n",
       "  <tbody>\n",
       "    <tr>\n",
       "      <th>count</th>\n",
       "      <td>48565.00</td>\n",
       "      <td>50000.00</td>\n",
       "    </tr>\n",
       "    <tr>\n",
       "      <th>mean</th>\n",
       "      <td>5888.94</td>\n",
       "      <td>125732.70</td>\n",
       "    </tr>\n",
       "    <tr>\n",
       "      <th>std</th>\n",
       "      <td>9059.85</td>\n",
       "      <td>40042.21</td>\n",
       "    </tr>\n",
       "    <tr>\n",
       "      <th>min</th>\n",
       "      <td>1.00</td>\n",
       "      <td>5000.00</td>\n",
       "    </tr>\n",
       "    <tr>\n",
       "      <th>25%</th>\n",
       "      <td>1200.00</td>\n",
       "      <td>125000.00</td>\n",
       "    </tr>\n",
       "    <tr>\n",
       "      <th>50%</th>\n",
       "      <td>3000.00</td>\n",
       "      <td>150000.00</td>\n",
       "    </tr>\n",
       "    <tr>\n",
       "      <th>75%</th>\n",
       "      <td>7490.00</td>\n",
       "      <td>150000.00</td>\n",
       "    </tr>\n",
       "    <tr>\n",
       "      <th>max</th>\n",
       "      <td>350000.00</td>\n",
       "      <td>150000.00</td>\n",
       "    </tr>\n",
       "  </tbody>\n",
       "</table>\n",
       "</div>"
      ],
      "text/plain": [
       "          price  odometer_km\n",
       "count  48565.00     50000.00\n",
       "mean    5888.94    125732.70\n",
       "std     9059.85     40042.21\n",
       "min        1.00      5000.00\n",
       "25%     1200.00    125000.00\n",
       "50%     3000.00    150000.00\n",
       "75%     7490.00    150000.00\n",
       "max   350000.00    150000.00"
      ]
     },
     "execution_count": 112,
     "metadata": {},
     "output_type": "execute_result"
    }
   ],
   "source": [
    "# Lots of big values in price column and there are 0s. Need to remove them and set them to blank. \n",
    "autos.loc[((autos['price']>=999990) | (autos['price'] == 0)), 'price'] = None \n",
    "autos[['price', 'odometer_km']].describe()"
   ]
  },
  {
   "cell_type": "markdown",
   "id": "95a41dac-dd39-46aa-a003-a4ecccdfe8a0",
   "metadata": {},
   "source": [
    "## Exploring the date columns"
   ]
  },
  {
   "cell_type": "code",
   "execution_count": 114,
   "id": "75233c56-f344-4610-8685-8447018ac65a",
   "metadata": {},
   "outputs": [
    {
     "data": {
      "text/html": [
       "<div>\n",
       "<style scoped>\n",
       "    .dataframe tbody tr th:only-of-type {\n",
       "        vertical-align: middle;\n",
       "    }\n",
       "\n",
       "    .dataframe tbody tr th {\n",
       "        vertical-align: top;\n",
       "    }\n",
       "\n",
       "    .dataframe thead th {\n",
       "        text-align: right;\n",
       "    }\n",
       "</style>\n",
       "<table border=\"1\" class=\"dataframe\">\n",
       "  <thead>\n",
       "    <tr style=\"text-align: right;\">\n",
       "      <th></th>\n",
       "      <th>date_crawled</th>\n",
       "      <th>ad_created</th>\n",
       "      <th>last_seen</th>\n",
       "    </tr>\n",
       "  </thead>\n",
       "  <tbody>\n",
       "    <tr>\n",
       "      <th>0</th>\n",
       "      <td>2016-03-26 17:47:46</td>\n",
       "      <td>2016-03-26 00:00:00</td>\n",
       "      <td>2016-04-06 06:45:54</td>\n",
       "    </tr>\n",
       "    <tr>\n",
       "      <th>1</th>\n",
       "      <td>2016-04-04 13:38:56</td>\n",
       "      <td>2016-04-04 00:00:00</td>\n",
       "      <td>2016-04-06 14:45:08</td>\n",
       "    </tr>\n",
       "    <tr>\n",
       "      <th>2</th>\n",
       "      <td>2016-03-26 18:57:24</td>\n",
       "      <td>2016-03-26 00:00:00</td>\n",
       "      <td>2016-04-06 20:15:37</td>\n",
       "    </tr>\n",
       "    <tr>\n",
       "      <th>3</th>\n",
       "      <td>2016-03-12 16:58:10</td>\n",
       "      <td>2016-03-12 00:00:00</td>\n",
       "      <td>2016-03-15 03:16:28</td>\n",
       "    </tr>\n",
       "    <tr>\n",
       "      <th>4</th>\n",
       "      <td>2016-04-01 14:38:50</td>\n",
       "      <td>2016-04-01 00:00:00</td>\n",
       "      <td>2016-04-01 14:38:50</td>\n",
       "    </tr>\n",
       "  </tbody>\n",
       "</table>\n",
       "</div>"
      ],
      "text/plain": [
       "          date_crawled           ad_created            last_seen\n",
       "0  2016-03-26 17:47:46  2016-03-26 00:00:00  2016-04-06 06:45:54\n",
       "1  2016-04-04 13:38:56  2016-04-04 00:00:00  2016-04-06 14:45:08\n",
       "2  2016-03-26 18:57:24  2016-03-26 00:00:00  2016-04-06 20:15:37\n",
       "3  2016-03-12 16:58:10  2016-03-12 00:00:00  2016-03-15 03:16:28\n",
       "4  2016-04-01 14:38:50  2016-04-01 00:00:00  2016-04-01 14:38:50"
      ]
     },
     "execution_count": 114,
     "metadata": {},
     "output_type": "execute_result"
    }
   ],
   "source": [
    "autos[['date_crawled','ad_created','last_seen']].head()"
   ]
  },
  {
   "cell_type": "code",
   "execution_count": 116,
   "id": "25aae80a-61f7-4552-8b83-95a4bde93995",
   "metadata": {},
   "outputs": [
    {
     "name": "stdout",
     "output_type": "stream",
     "text": [
      "<class 'pandas.core.frame.DataFrame'>\n",
      "RangeIndex: 50000 entries, 0 to 49999\n",
      "Data columns (total 3 columns):\n",
      " #   Column        Non-Null Count  Dtype \n",
      "---  ------        --------------  ----- \n",
      " 0   date_crawled  50000 non-null  object\n",
      " 1   ad_created    50000 non-null  object\n",
      " 2   last_seen     50000 non-null  object\n",
      "dtypes: object(3)\n",
      "memory usage: 1.1+ MB\n"
     ]
    }
   ],
   "source": [
    "autos[['date_crawled','ad_created','last_seen']].info(0)"
   ]
  },
  {
   "cell_type": "code",
   "execution_count": 119,
   "id": "a61e9eab-f014-4636-bb84-412125e5a8f7",
   "metadata": {},
   "outputs": [
    {
     "data": {
      "text/plain": [
       "2016-03-05    1269\n",
       "2016-03-06     697\n",
       "2016-03-07    1798\n",
       "2016-03-08    1665\n",
       "2016-03-09    1661\n",
       "2016-03-10    1606\n",
       "2016-03-11    1624\n",
       "2016-03-12    1839\n",
       "2016-03-13     778\n",
       "2016-03-14    1831\n",
       "2016-03-15    1699\n",
       "2016-03-16    1475\n",
       "2016-03-17    1576\n",
       "2016-03-18     653\n",
       "2016-03-19    1745\n",
       "2016-03-20    1891\n",
       "2016-03-21    1876\n",
       "2016-03-22    1647\n",
       "2016-03-23    1619\n",
       "2016-03-24    1455\n",
       "2016-03-25    1587\n",
       "2016-03-26    1624\n",
       "2016-03-27    1552\n",
       "2016-03-28    1742\n",
       "2016-03-29    1709\n",
       "2016-03-30    1681\n",
       "2016-03-31    1596\n",
       "2016-04-01    1690\n",
       "2016-04-02    1770\n",
       "2016-04-03    1934\n",
       "2016-04-04    1826\n",
       "2016-04-05     655\n",
       "2016-04-06     159\n",
       "2016-04-07      71\n",
       "Name: date_crawled, dtype: int64"
      ]
     },
     "execution_count": 119,
     "metadata": {},
     "output_type": "execute_result"
    }
   ],
   "source": [
    "autos['date_crawled'].str[:10].value_counts(dropna=False).sort_index()"
   ]
  },
  {
   "cell_type": "code",
   "execution_count": 122,
   "id": "f526357e-127d-4dfd-a5bd-6943b0451d35",
   "metadata": {},
   "outputs": [
    {
     "data": {
      "text/plain": [
       "2016-03-05   0.00\n",
       "2016-03-06   0.00\n",
       "2016-03-07   0.01\n",
       "2016-03-08   0.01\n",
       "2016-03-09   0.01\n",
       "2016-03-10   0.01\n",
       "2016-03-11   0.01\n",
       "2016-03-12   0.02\n",
       "2016-03-13   0.01\n",
       "2016-03-14   0.01\n",
       "2016-03-15   0.02\n",
       "2016-03-16   0.02\n",
       "2016-03-17   0.03\n",
       "2016-03-18   0.01\n",
       "2016-03-19   0.02\n",
       "2016-03-20   0.02\n",
       "2016-03-21   0.02\n",
       "2016-03-22   0.02\n",
       "2016-03-23   0.02\n",
       "2016-03-24   0.02\n",
       "2016-03-25   0.02\n",
       "2016-03-26   0.02\n",
       "2016-03-27   0.02\n",
       "2016-03-28   0.02\n",
       "2016-03-29   0.02\n",
       "2016-03-30   0.02\n",
       "2016-03-31   0.02\n",
       "2016-04-01   0.02\n",
       "2016-04-02   0.02\n",
       "2016-04-03   0.03\n",
       "2016-04-04   0.02\n",
       "2016-04-05   0.12\n",
       "2016-04-06   0.22\n",
       "2016-04-07   0.13\n",
       "Name: last_seen, dtype: float64"
      ]
     },
     "execution_count": 122,
     "metadata": {},
     "output_type": "execute_result"
    }
   ],
   "source": [
    "autos['last_seen'].str[:10].value_counts(normalize=True, dropna=False).sort_index() # Percentages"
   ]
  },
  {
   "cell_type": "code",
   "execution_count": 126,
   "id": "b727f1c4-ad87-4c8a-907d-de465d4c9476",
   "metadata": {},
   "outputs": [
    {
     "data": {
      "text/plain": [
       "2015-06-11   0.00\n",
       "2015-08-10   0.00\n",
       "2015-09-09   0.00\n",
       "2015-11-10   0.00\n",
       "2015-12-05   0.00\n",
       "             ... \n",
       "2016-04-03   0.04\n",
       "2016-04-04   0.04\n",
       "2016-04-05   0.01\n",
       "2016-04-06   0.00\n",
       "2016-04-07   0.00\n",
       "Name: ad_created, Length: 76, dtype: float64"
      ]
     },
     "execution_count": 126,
     "metadata": {},
     "output_type": "execute_result"
    }
   ],
   "source": [
    "autos['ad_created'].str[:10].value_counts(normalize=True, dropna=False).sort_index() # Percentages"
   ]
  },
  {
   "cell_type": "code",
   "execution_count": 127,
   "id": "b2702534-8288-431a-aff8-d148640c281b",
   "metadata": {},
   "outputs": [
    {
     "data": {
      "text/plain": [
       "count   50000.00\n",
       "mean     2005.07\n",
       "std       105.71\n",
       "min      1000.00\n",
       "25%      1999.00\n",
       "50%      2003.00\n",
       "75%      2008.00\n",
       "max      9999.00\n",
       "Name: registration_year, dtype: float64"
      ]
     },
     "execution_count": 127,
     "metadata": {},
     "output_type": "execute_result"
    }
   ],
   "source": [
    "autos['registration_year'].describe()"
   ]
  },
  {
   "cell_type": "markdown",
   "id": "f0ba39e1-0668-4134-bdcd-4c4562ad8527",
   "metadata": {},
   "source": [
    "registration_year needs cleaning.. there are values beyond 9999 and smaller than 1000"
   ]
  },
  {
   "cell_type": "markdown",
   "id": "017caf4b-e263-4ab0-af4a-c1e6c504781d",
   "metadata": {},
   "source": [
    "## Dealing with Incorrect Registration Year Data"
   ]
  },
  {
   "cell_type": "code",
   "execution_count": 128,
   "id": "2b743e90-57fa-4bce-a4b3-87cfb95f20f3",
   "metadata": {},
   "outputs": [
    {
     "data": {
      "text/plain": [
       "1000    1\n",
       "1001    1\n",
       "1111    1\n",
       "1500    1\n",
       "1800    2\n",
       "1910    9\n",
       "1927    1\n",
       "1929    1\n",
       "1931    1\n",
       "1934    2\n",
       "Name: registration_year, dtype: int64"
      ]
     },
     "metadata": {},
     "output_type": "display_data"
    },
    {
     "data": {
      "text/plain": [
       "2011    1634\n",
       "2012    1323\n",
       "2013     806\n",
       "2014     666\n",
       "2015     399\n",
       "2016    1316\n",
       "2017    1453\n",
       "2018     492\n",
       "2019       3\n",
       "2800       1\n",
       "4100       1\n",
       "4500       1\n",
       "4800       1\n",
       "5000       4\n",
       "5911       1\n",
       "6200       1\n",
       "8888       1\n",
       "9000       2\n",
       "9996       1\n",
       "9999       4\n",
       "Name: registration_year, dtype: int64"
      ]
     },
     "metadata": {},
     "output_type": "display_data"
    }
   ],
   "source": [
    "display(autos['registration_year'].value_counts(dropna=False).sort_index().head(10))\n",
    "display(autos['registration_year'].value_counts(dropna=False).sort_index().tail(20))"
   ]
  },
  {
   "cell_type": "code",
   "execution_count": 132,
   "id": "a1a69a7f-e462-4a80-ba6d-64f92f2e47e1",
   "metadata": {},
   "outputs": [
    {
     "data": {
      "text/plain": [
       "registration_year\n",
       "2000.00             0.07\n",
       "2005.00             0.06\n",
       "1999.00             0.06\n",
       "2004.00             0.05\n",
       "2003.00             0.05\n",
       "                    ... \n",
       "1939.00             0.00\n",
       "1938.00             0.00\n",
       "1931.00             0.00\n",
       "1929.00             0.00\n",
       "1927.00             0.00\n",
       "Length: 81, dtype: float64"
      ]
     },
     "metadata": {},
     "output_type": "display_data"
    }
   ],
   "source": [
    "reg_year_filer = (autos['registration_year'] <= 1800) | (autos['registration_year'] >= 2800)\n",
    "autos.loc[reg_year_filer, 'registration_year'] = None\n",
    "display(autos[['registration_year']].value_counts(normalize=True))"
   ]
  },
  {
   "cell_type": "markdown",
   "id": "0dd24e94-aea4-4324-891b-1de5cea0829b",
   "metadata": {},
   "source": [
    "## Exploring Price by Brand"
   ]
  },
  {
   "cell_type": "code",
   "execution_count": 134,
   "id": "0c0ee245-edb0-4499-b982-5b6f0155c05c",
   "metadata": {},
   "outputs": [
    {
     "data": {
      "text/plain": [
       "array(['peugeot', 'bmw', 'volkswagen', 'smart', 'ford', 'chrysler',\n",
       "       'seat', 'renault', 'mercedes_benz', 'audi', 'sonstige_autos',\n",
       "       'opel', 'mazda', 'porsche', 'mini', 'toyota', 'dacia', 'nissan',\n",
       "       'jeep', 'saab', 'volvo', 'mitsubishi', 'jaguar', 'fiat', 'skoda',\n",
       "       'subaru', 'kia', 'citroen', 'chevrolet', 'hyundai', 'honda',\n",
       "       'daewoo', 'suzuki', 'trabant', 'land_rover', 'alfa_romeo', 'lada',\n",
       "       'rover', 'daihatsu', 'lancia'], dtype=object)"
      ]
     },
     "execution_count": 134,
     "metadata": {},
     "output_type": "execute_result"
    }
   ],
   "source": [
    "# Find unique values for brand \n",
    "autos['brand'].unique()"
   ]
  },
  {
   "cell_type": "code",
   "execution_count": 137,
   "id": "e3a8a18e-5ce7-4362-9027-a6e1b7cbcdee",
   "metadata": {},
   "outputs": [],
   "source": [
    "# Use value counts to find top 20 brands\n",
    "top_20_brands = autos['brand'].value_counts().head(20)"
   ]
  },
  {
   "cell_type": "code",
   "execution_count": 139,
   "id": "6362cd80-6677-4dbb-ac34-6ebe0a05447e",
   "metadata": {},
   "outputs": [
    {
     "data": {
      "text/plain": [
       "Index(['volkswagen', 'opel', 'bmw', 'mercedes_benz', 'audi', 'ford', 'renault',\n",
       "       'peugeot', 'fiat', 'seat', 'skoda', 'mazda', 'nissan', 'smart',\n",
       "       'citroen', 'toyota', 'sonstige_autos', 'hyundai', 'volvo', 'mini'],\n",
       "      dtype='object')"
      ]
     },
     "execution_count": 139,
     "metadata": {},
     "output_type": "execute_result"
    }
   ],
   "source": [
    "top_20_brands.index"
   ]
  },
  {
   "cell_type": "code",
   "execution_count": 144,
   "id": "82d98688-056a-462f-873e-58b3b92225fb",
   "metadata": {},
   "outputs": [
    {
     "data": {
      "text/plain": [
       "{'volkswagen': 5332,\n",
       " 'opel': 2945,\n",
       " 'bmw': 8261,\n",
       " 'mercedes_benz': 8536,\n",
       " 'audi': 9213,\n",
       " 'ford': 3728,\n",
       " 'renault': 2431,\n",
       " 'peugeot': 3066,\n",
       " 'fiat': 2794,\n",
       " 'seat': 4316,\n",
       " 'skoda': 6354,\n",
       " 'mazda': 4059,\n",
       " 'nissan': 4669,\n",
       " 'smart': 3518,\n",
       " 'citroen': 3762,\n",
       " 'toyota': 5148,\n",
       " 'sonstige_autos': 12149,\n",
       " 'hyundai': 5372,\n",
       " 'volvo': 4867,\n",
       " 'mini': 10542}"
      ]
     },
     "execution_count": 144,
     "metadata": {},
     "output_type": "execute_result"
    }
   ],
   "source": [
    "average_price = {}\n",
    "for brand in top_20_brands.index:\n",
    "    average_price[brand] = round(autos.loc[autos['brand'] == brand, 'price'].mean())\n",
    "average_price"
   ]
  },
  {
   "cell_type": "markdown",
   "id": "00e9591d-a5c8-4a2d-a1ce-ad9ce0a2e195",
   "metadata": {},
   "source": [
    "## Storing Aggregate Data in a DataFrame"
   ]
  },
  {
   "cell_type": "code",
   "execution_count": 155,
   "id": "5fe7f5f5-69e1-4d27-9c1b-42c2bd119fbc",
   "metadata": {},
   "outputs": [
    {
     "data": {
      "text/plain": [
       "count    50000.00\n",
       "mean    125732.70\n",
       "std      40042.21\n",
       "min       5000.00\n",
       "25%     125000.00\n",
       "50%     150000.00\n",
       "75%     150000.00\n",
       "max     150000.00\n",
       "Name: odometer_km, dtype: float64"
      ]
     },
     "execution_count": 155,
     "metadata": {},
     "output_type": "execute_result"
    }
   ],
   "source": [
    "# we will use the top 20 brands above and calculate average mileage. \n",
    "# Lets check the mileage column first. \n",
    "autos['odometer_km'].describe()"
   ]
  },
  {
   "cell_type": "code",
   "execution_count": 156,
   "id": "55bf0fd8-885c-4108-a9a7-1ade276c35b9",
   "metadata": {},
   "outputs": [
    {
     "data": {
      "text/plain": [
       "{'volkswagen': 128955,\n",
       " 'opel': 129299,\n",
       " 'bmw': 132522,\n",
       " 'mercedes_benz': 130886,\n",
       " 'audi': 129644,\n",
       " 'ford': 124132,\n",
       " 'renault': 128224,\n",
       " 'peugeot': 127352,\n",
       " 'fiat': 117037,\n",
       " 'seat': 122062,\n",
       " 'skoda': 110948,\n",
       " 'mazda': 125132,\n",
       " 'nissan': 118979,\n",
       " 'smart': 100756,\n",
       " 'citroen': 119765,\n",
       " 'toyota': 115989,\n",
       " 'sonstige_autos': 87189,\n",
       " 'hyundai': 106783,\n",
       " 'volvo': 138632,\n",
       " 'mini': 89375}"
      ]
     },
     "execution_count": 156,
     "metadata": {},
     "output_type": "execute_result"
    }
   ],
   "source": [
    "average_mileage = {}\n",
    "for brand in top_20_brands.index:\n",
    "    average_mileage[brand] = round(autos.loc[autos['brand'] == brand, 'odometer_km'].mean())\n",
    "average_mileage"
   ]
  },
  {
   "cell_type": "code",
   "execution_count": 157,
   "id": "dad4ef8d-0cde-4766-a2ef-ca4bed84f05e",
   "metadata": {},
   "outputs": [
    {
     "data": {
      "text/html": [
       "<div>\n",
       "<style scoped>\n",
       "    .dataframe tbody tr th:only-of-type {\n",
       "        vertical-align: middle;\n",
       "    }\n",
       "\n",
       "    .dataframe tbody tr th {\n",
       "        vertical-align: top;\n",
       "    }\n",
       "\n",
       "    .dataframe thead th {\n",
       "        text-align: right;\n",
       "    }\n",
       "</style>\n",
       "<table border=\"1\" class=\"dataframe\">\n",
       "  <thead>\n",
       "    <tr style=\"text-align: right;\">\n",
       "      <th></th>\n",
       "      <th>average_price</th>\n",
       "      <th>average_mileage</th>\n",
       "    </tr>\n",
       "  </thead>\n",
       "  <tbody>\n",
       "    <tr>\n",
       "      <th>volkswagen</th>\n",
       "      <td>5332</td>\n",
       "      <td>128955</td>\n",
       "    </tr>\n",
       "    <tr>\n",
       "      <th>opel</th>\n",
       "      <td>2945</td>\n",
       "      <td>129299</td>\n",
       "    </tr>\n",
       "    <tr>\n",
       "      <th>bmw</th>\n",
       "      <td>8261</td>\n",
       "      <td>132522</td>\n",
       "    </tr>\n",
       "    <tr>\n",
       "      <th>mercedes_benz</th>\n",
       "      <td>8536</td>\n",
       "      <td>130886</td>\n",
       "    </tr>\n",
       "    <tr>\n",
       "      <th>audi</th>\n",
       "      <td>9213</td>\n",
       "      <td>129644</td>\n",
       "    </tr>\n",
       "    <tr>\n",
       "      <th>ford</th>\n",
       "      <td>3728</td>\n",
       "      <td>124132</td>\n",
       "    </tr>\n",
       "    <tr>\n",
       "      <th>renault</th>\n",
       "      <td>2431</td>\n",
       "      <td>128224</td>\n",
       "    </tr>\n",
       "    <tr>\n",
       "      <th>peugeot</th>\n",
       "      <td>3066</td>\n",
       "      <td>127352</td>\n",
       "    </tr>\n",
       "    <tr>\n",
       "      <th>fiat</th>\n",
       "      <td>2794</td>\n",
       "      <td>117037</td>\n",
       "    </tr>\n",
       "    <tr>\n",
       "      <th>seat</th>\n",
       "      <td>4316</td>\n",
       "      <td>122062</td>\n",
       "    </tr>\n",
       "    <tr>\n",
       "      <th>skoda</th>\n",
       "      <td>6354</td>\n",
       "      <td>110948</td>\n",
       "    </tr>\n",
       "    <tr>\n",
       "      <th>mazda</th>\n",
       "      <td>4059</td>\n",
       "      <td>125132</td>\n",
       "    </tr>\n",
       "    <tr>\n",
       "      <th>nissan</th>\n",
       "      <td>4669</td>\n",
       "      <td>118979</td>\n",
       "    </tr>\n",
       "    <tr>\n",
       "      <th>smart</th>\n",
       "      <td>3518</td>\n",
       "      <td>100756</td>\n",
       "    </tr>\n",
       "    <tr>\n",
       "      <th>citroen</th>\n",
       "      <td>3762</td>\n",
       "      <td>119765</td>\n",
       "    </tr>\n",
       "    <tr>\n",
       "      <th>toyota</th>\n",
       "      <td>5148</td>\n",
       "      <td>115989</td>\n",
       "    </tr>\n",
       "    <tr>\n",
       "      <th>sonstige_autos</th>\n",
       "      <td>12149</td>\n",
       "      <td>87189</td>\n",
       "    </tr>\n",
       "    <tr>\n",
       "      <th>hyundai</th>\n",
       "      <td>5372</td>\n",
       "      <td>106783</td>\n",
       "    </tr>\n",
       "    <tr>\n",
       "      <th>volvo</th>\n",
       "      <td>4867</td>\n",
       "      <td>138632</td>\n",
       "    </tr>\n",
       "    <tr>\n",
       "      <th>mini</th>\n",
       "      <td>10542</td>\n",
       "      <td>89375</td>\n",
       "    </tr>\n",
       "  </tbody>\n",
       "</table>\n",
       "</div>"
      ],
      "text/plain": [
       "                average_price  average_mileage\n",
       "volkswagen               5332           128955\n",
       "opel                     2945           129299\n",
       "bmw                      8261           132522\n",
       "mercedes_benz            8536           130886\n",
       "audi                     9213           129644\n",
       "ford                     3728           124132\n",
       "renault                  2431           128224\n",
       "peugeot                  3066           127352\n",
       "fiat                     2794           117037\n",
       "seat                     4316           122062\n",
       "skoda                    6354           110948\n",
       "mazda                    4059           125132\n",
       "nissan                   4669           118979\n",
       "smart                    3518           100756\n",
       "citroen                  3762           119765\n",
       "toyota                   5148           115989\n",
       "sonstige_autos          12149            87189\n",
       "hyundai                  5372           106783\n",
       "volvo                    4867           138632\n",
       "mini                    10542            89375"
      ]
     },
     "execution_count": 157,
     "metadata": {},
     "output_type": "execute_result"
    }
   ],
   "source": [
    "# Create two series with two dictionaries. \n",
    "price_series = pd.Series(average_price)\n",
    "mileage_series = pd.Series(average_mileage)\n",
    "\n",
    "brand_df = pd.DataFrame(price_series, columns=['average_price'])\n",
    "brand_df['average_mileage'] = mileage_series\n",
    "\n",
    "brand_df"
   ]
  },
  {
   "cell_type": "code",
   "execution_count": null,
   "id": "65f62330-6254-4f6d-8de9-0ae201431d8b",
   "metadata": {},
   "outputs": [],
   "source": []
  }
 ],
 "metadata": {
  "kernelspec": {
   "display_name": "Python 3 (ipykernel)",
   "language": "python",
   "name": "python3"
  },
  "language_info": {
   "codemirror_mode": {
    "name": "ipython",
    "version": 3
   },
   "file_extension": ".py",
   "mimetype": "text/x-python",
   "name": "python",
   "nbconvert_exporter": "python",
   "pygments_lexer": "ipython3",
   "version": "3.10.6"
  }
 },
 "nbformat": 4,
 "nbformat_minor": 5
}
